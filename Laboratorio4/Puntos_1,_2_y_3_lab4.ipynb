{
  "nbformat": 4,
  "nbformat_minor": 0,
  "metadata": {
    "colab": {
      "name": "Puntos 1, 2 y 3_lab4.ipynb",
      "provenance": [],
      "collapsed_sections": [],
      "include_colab_link": true
    },
    "kernelspec": {
      "name": "python3",
      "display_name": "Python 3"
    }
  },
  "cells": [
    {
      "cell_type": "markdown",
      "metadata": {
        "id": "view-in-github",
        "colab_type": "text"
      },
      "source": [
        "<a href=\"https://colab.research.google.com/github/juacostar/AlgorithmsUN2020II/blob/master/Laboratorio4/Puntos_1%2C_2_y_3_lab4.ipynb\" target=\"_parent\"><img src=\"https://colab.research.google.com/assets/colab-badge.svg\" alt=\"Open In Colab\"/></a>"
      ]
    },
    {
      "cell_type": "code",
      "metadata": {
        "id": "Uw9xL5p-P_to",
        "colab_type": "code",
        "colab": {}
      },
      "source": [
        "import random\n",
        "import numpy as np\n",
        "import random\n",
        "import matplotlib.pyplot as plt"
      ],
      "execution_count": 1,
      "outputs": []
    },
    {
      "cell_type": "markdown",
      "metadata": {
        "id": "g--qXvKJmxAU",
        "colab_type": "text"
      },
      "source": [
        "1. Probabilidad de sacar 21"
      ]
    },
    {
      "cell_type": "code",
      "metadata": {
        "id": "bbLPchFalDe0",
        "colab_type": "code",
        "colab": {
          "base_uri": "https://localhost:8080/",
          "height": 35
        },
        "outputId": "43e5acdf-86c6-41a5-eb44-82a4a541a3f1"
      },
      "source": [
        "n = 10000000\n",
        "veintiunas = 0\n",
        "for i in range(n):\n",
        "  poker_deck = [1, 2, 3, 4, 5, 6, 7, 8, 9, 10, 10, 10, 10, 1, 2, 3, 4, 5, 6, 7, 8, 9, 10, 10, 10, 10, 1, 2, 3, 4, 5, 6, 7, 8, 9, 10, 10, 10, 10, 1, 2, 3, 4, 5, 6, 7, 8, 9, 10, 10, 10, 10]\n",
        "  cuenta = 0\n",
        "  while cuenta < 21:\n",
        "    carta = random.choice(poker_deck)\n",
        "    poker_deck.remove(carta)\n",
        "    cuenta +=  carta\n",
        "  if cuenta == 21:\n",
        "    veintiunas += 1\n",
        "print(\"Probabilidad de sacar 21 es:\", veintiunas / n)"
      ],
      "execution_count": null,
      "outputs": [
        {
          "output_type": "stream",
          "text": [
            "Probabilidad de sacar 21 es: 0.1399733\n"
          ],
          "name": "stdout"
        }
      ]
    },
    {
      "cell_type": "markdown",
      "metadata": {
        "id": "I7FxduBanbVh",
        "colab_type": "text"
      },
      "source": [
        "\n",
        "1. y 2. Primer Método de sacar 21 con todo tipo de barajas\n"
      ]
    },
    {
      "cell_type": "code",
      "metadata": {
        "id": "BU2I5EfPnluI",
        "colab_type": "code",
        "colab": {
          "base_uri": "https://localhost:8080/",
          "height": 914
        },
        "outputId": "bbb0cdcd-aad6-4028-8684-5fcd5da413bd"
      },
      "source": [
        "baraja = [1,2,3,4,5,6,7,8,9,10,11,12]*4\n",
        "poker = [1,2,3,4,5,6,7,8,9,10,11,12,13]*4\n",
        "pokerplus = [1,2,3,4,5,6,7,8,9,10,10,10,10]*4\n",
        "\n",
        "gamenames = ['Baraja española','Poker 13','Poker 10']\n",
        "games = [baraja,poker,pokerplus]\n",
        "\n",
        "n = 100000\n",
        "\n",
        "for g in range(3):\n",
        "\n",
        "    ncards = []\n",
        "    results = np.zeros(13)\n",
        "    blackjacks = 0\n",
        "\n",
        "    for i in range(n):\n",
        "\n",
        "        poker_i = games[g].copy()\n",
        "        player = []\n",
        "\n",
        "        while sum(player) < 21:\n",
        "            card = random.choice(poker_i)\n",
        "            player.append(card)\n",
        "            poker_i.remove(card)\n",
        "\n",
        "        results[sum(player)-21] += 1\n",
        "\n",
        "        if(sum(player)==21):\n",
        "            blackjacks += 1\n",
        "            ncards.append(len(player))        \n",
        "        \n",
        "\n",
        "    nc = np.array(ncards)\n",
        "\n",
        "    print(gamenames[g])\n",
        "\n",
        "    plt.hist(list(map(str,range(21,34))), bins=list(map(str,range(21,35))), align='left',color='salmon',weights=(results/n))\n",
        "\n",
        "    plt.show();\n",
        "\n",
        "    print(blackjacks/n, nc.mean(),'\\n')"
      ],
      "execution_count": null,
      "outputs": [
        {
          "output_type": "stream",
          "text": [
            "Baraja española\n"
          ],
          "name": "stdout"
        },
        {
          "output_type": "display_data",
          "data": {
            "image/png": "[encoded data removed]",
            "text/plain": [
              "<Figure size 432x288 with 1 Axes>"
            ]
          },
          "metadata": {
            "tags": [],
            "needs_background": "light"
          }
        },
        {
          "output_type": "stream",
          "text": [
            "0.15879 3.425845456262989 \n",
            "\n",
            "Poker 13\n"
          ],
          "name": "stdout"
        },
        {
          "output_type": "display_data",
          "data": {
            "image/png": "[encoded data removed]",
            "text/plain": [
              "<Figure size 432x288 with 1 Axes>"
            ]
          },
          "metadata": {
            "tags": [],
            "needs_background": "light"
          }
        },
        {
          "output_type": "stream",
          "text": [
            "0.14576 3.2131586169045003 \n",
            "\n",
            "Poker 10\n"
          ],
          "name": "stdout"
        },
        {
          "output_type": "display_data",
          "data": {
            "image/png": "[encoded data removed]",
            "text/plain": [
              "<Figure size 432x288 with 1 Axes>"
            ]
          },
          "metadata": {
            "tags": [],
            "needs_background": "light"
          }
        },
        {
          "output_type": "stream",
          "text": [
            "0.14133 3.576310762046275 \n",
            "\n"
          ],
          "name": "stdout"
        }
      ]
    },
    {
      "cell_type": "markdown",
      "metadata": {
        "id": "SKsSVONjm6jr",
        "colab_type": "text"
      },
      "source": [
        "3. Probabilidad de sacar 21 con n/2 cartas y teniendo 19"
      ]
    },
    {
      "cell_type": "code",
      "metadata": {
        "id": "2XGcqRfsm7_f",
        "colab_type": "code",
        "colab": {
          "base_uri": "https://localhost:8080/",
          "height": 914
        },
        "outputId": "ab545555-9b3a-4fea-dc25-8cff094c402c"
      },
      "source": [
        "n = 10000000\n",
        "\n",
        "for g in range(3):\n",
        "    ncards = []\n",
        "    results = np.zeros(13)\n",
        "    blackjacks = 0\n",
        "\n",
        "    for i in range(n):\n",
        "      \n",
        "        poker_i = random.choices(games[g], k=(len(games[g])//2))\n",
        "        player = [19]\n",
        "\n",
        "        while sum(player) < 21:\n",
        "            card = random.choice(poker_i)\n",
        "            player.append(card)\n",
        "            poker_i.remove(card)\n",
        "\n",
        "        results[sum(player)-21] += 1\n",
        "\n",
        "        if(sum(player)==21):\n",
        "            blackjacks += 1\n",
        "            ncards.append(len(player))\n",
        "            #print(player)\n",
        "\n",
        "    nc = np.array(ncards)\n",
        "\n",
        "    print(gamenames[g])\n",
        "\n",
        "    plt.hist(list(map(str,range(21,34))), bins=list(map(str,range(21,35))), align='left',color='salmon',weights=(results/n))\n",
        "\n",
        "    plt.show();\n",
        "\n",
        "    print(blackjacks/n, nc.mean(),'\\n')"
      ],
      "execution_count": null,
      "outputs": [
        {
          "output_type": "stream",
          "text": [
            "Baraja española\n"
          ],
          "name": "stdout"
        },
        {
          "output_type": "display_data",
          "data": {
            "image/png": "[encoded data removed]",
            "text/plain": [
              "<Figure size 432x288 with 1 Axes>"
            ]
          },
          "metadata": {
            "tags": [],
            "needs_background": "light"
          }
        },
        {
          "output_type": "stream",
          "text": [
            "0.09057 2.0800485812079055 \n",
            "\n",
            "Poker 13\n"
          ],
          "name": "stdout"
        },
        {
          "output_type": "display_data",
          "data": {
            "image/png": "[encoded data removed]",
            "text/plain": [
              "<Figure size 432x288 with 1 Axes>"
            ]
          },
          "metadata": {
            "tags": [],
            "needs_background": "light"
          }
        },
        {
          "output_type": "stream",
          "text": [
            "0.08398 2.0707311264586807 \n",
            "\n",
            "Poker 10\n"
          ],
          "name": "stdout"
        },
        {
          "output_type": "display_data",
          "data": {
            "image/png": "[encoded data removed]",
            "text/plain": [
              "<Figure size 432x288 with 1 Axes>"
            ]
          },
          "metadata": {
            "tags": [],
            "needs_background": "light"
          }
        },
        {
          "output_type": "stream",
          "text": [
            "0.08223 2.0698042077100816 \n",
            "\n"
          ],
          "name": "stdout"
        }
      ]
    },
    {
      "cell_type": "markdown",
      "metadata": {
        "id": "MpnV9BC-RmLt",
        "colab_type": "text"
      },
      "source": [
        "#### 3.Probabilidad de tener cartas 7,7 y 5 y sacar 21\n"
      ]
    },
    {
      "cell_type": "code",
      "metadata": {
        "id": "8juarUemRwUz",
        "colab_type": "code",
        "colab": {
          "base_uri": "https://localhost:8080/",
          "height": 334
        },
        "outputId": "1478afa6-7142-46bd-9e60-b8b56a1cf473"
      },
      "source": [
        "n = 10000000\n",
        "results = np.zeros(13)\n",
        "blackjacks = 0\n",
        "ncards = []\n",
        "\n",
        "for i in range(n):\n",
        "    player = [7,7,5]\n",
        "    poker_i = [1,1,1,1,2,2,2,2,3,3,3,3,4,4,4,4,5,5,5,6]\n",
        "    while sum(player) < 21:\n",
        "        card = random.choice(poker_i)\n",
        "        player.append(card)\n",
        "        poker_i.remove(card)\n",
        "\n",
        "    results[sum(player)-21] += 1\n",
        "\n",
        "    if(sum(player)==21):\n",
        "        blackjacks += 1\n",
        "        ncards.append(len(player))\n",
        "        #print(player)\n",
        "nc = np.array(ncards)\n",
        "plt.hist(list(map(str,range(21,34))), bins=list(map(str,range(21,35))), align='left',color='salmon',weights=(results/n))\n",
        "\n",
        "plt.show();\n",
        "print('La probabilidad de sacar 21 teniendo la mitad de la baraja y las cartas 7,7 y 5 es: \\n',blackjacks)\n",
        "print('El numero de cartas promedio para sacar 21 es: \\n',nc.mean())"
      ],
      "execution_count": 13,
      "outputs": [
        {
          "output_type": "display_data",
          "data": {
            "image/png": "[encoded data removed]",
            "text/plain": [
              "<Figure size 432x288 with 1 Axes>"
            ]
          },
          "metadata": {
            "tags": [],
            "needs_background": "light"
          }
        },
        {
          "output_type": "stream",
          "text": [
            "La probabilidad de sacar 21 teniendo la mitad de la baraja y las cartas 7,7 y 5 es: \n",
            " 2313180\n",
            "El numero de cartas promedio para sacar 21 es: \n",
            " 4.136427774751641\n"
          ],
          "name": "stdout"
        }
      ]
    }
  ]
}