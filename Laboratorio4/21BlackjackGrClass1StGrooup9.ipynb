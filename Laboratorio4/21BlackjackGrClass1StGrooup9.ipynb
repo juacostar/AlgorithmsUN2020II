{
  "nbformat": 4,
  "nbformat_minor": 0,
  "metadata": {
    "colab": {
      "name": "21BlackjackGrClass1StGrooup9.ipynb",
      "provenance": [],
      "collapsed_sections": [],
      "include_colab_link": true
    },
    "kernelspec": {
      "name": "python3",
      "display_name": "Python 3"
    }
  },
  "cells": [
    {
      "cell_type": "markdown",
      "metadata": {
        "id": "view-in-github",
        "colab_type": "text"
      },
      "source": [
        "<a href=\"https://colab.research.google.com/github/juacostar/AlgorithmsUN2020II/blob/master/Laboratorio4/21BlackjackGrClass1StGrooup9.ipynb\" target=\"_parent\"><img src=\"https://colab.research.google.com/assets/colab-badge.svg\" alt=\"Open In Colab\"/></a>"
      ]
    },
    {
      "cell_type": "markdown",
      "metadata": {
        "id": "UFLfKDOkYbs-"
      },
      "source": [
        "## `                   **LAB 4 Monte Carlo – 21 Blackjack – Groups**\n",
        "\n"
      ]
    },
    {
      "cell_type": "code",
      "metadata": {
        "id": "7pIqn1WCYeXA"
      },
      "source": [
        "import random\n",
        "import numpy as np\n",
        "import random\n",
        "import matplotlib.pyplot as plt"
      ],
      "execution_count": null,
      "outputs": []
    },
    {
      "cell_type": "markdown",
      "metadata": {
        "id": "WIz2GG2YXv-8"
      },
      "source": [
        "1. Estimate the probability of getting a 21, the average number of cards required to complete 21 and plot the experimental distribution of the number of card required to complete 21 drawing cards sequentially from a shuffled Spanish 48-card deck with card values [1,2,3,4,5,6,7,8,9,10,11,12,1,2,3,4,5,6,7,8,9,10,11,12,1,2,3,4,5,6,7,8,9,10,11,12,1,2,3,4,5,6,7,8,9,10,11,12] and from a shuffled Poker 52-card with card values [1,2,3,4,5,6,7,8,9,10,11,12,13,1,2,3,4,5,6,7,8,9,10,11,12,13,1,2,3,4,5,6,7,8,9,10,11,12,13,1,2,3,4,5,6,7,8,9,10,11,12,13] using Montecarlo with 10 millions simulations.\n",
        "  * A n-card deck is shuffled if t all possible n! decks have equal probability 1/n! or equivalently if when choosing any card of the shuffled deck all n cards have the same probability 1/n of appearing.\n",
        "  * Hint: Instead of shuffling the card deck an drawing sequentially it is equivalent to have a sorted list representing the cards and draw cards randomly located from that list with random.choice(list).\n"
      ]
    },
    {
      "cell_type": "code",
      "metadata": {
        "id": "SMEw-p_xKp-7"
      },
      "source": [
        "baraja_e1 = [1,2,3,4,5,6,7,8,9,10,11,12]*4       #Baraja Española\n",
        "baraja_p1= [1,2,3,4,5,6,7,8,9,10,11,12,13]*4    #Baraja Poker\n",
        "baraja_e2 = [1,2,3,4,5,6,7,8,9,10,10,10]*4       #Baraja Española  3 10's\n",
        "baraja_p2= [1,2,3,4,5,6,7,8,9,10,10,10,10]*4    #Baraja Poker  4 10's\n",
        "\n",
        "gamenames = ['Baraja Española', 'Baraja Poker']"
      ],
      "execution_count": null,
      "outputs": []
    },
    {
      "cell_type": "code",
      "metadata": {
        "id": "BU2I5EfPnluI",
        "outputId": "aff59afb-a754-40c5-defb-81d37dedd809",
        "colab": {
          "base_uri": "https://localhost:8080/",
          "height": 683
        }
      },
      "source": [
        "games1 = [baraja_e1,baraja_p1]\n",
        "\n",
        "n = 10000000\n",
        "\n",
        "for g in range(2):\n",
        "\n",
        "    ncards = []\n",
        "    nhcards = np.zeros(7)\n",
        "    blackjacks = 0\n",
        "\n",
        "    for i in range(n):\n",
        "\n",
        "        poker_i = games1[g].copy()\n",
        "        player = []\n",
        "\n",
        "        while sum(player) < 21:\n",
        "            card = random.choice(poker_i)\n",
        "            player.append(card)\n",
        "            poker_i.remove(card)\n",
        "\n",
        "        if(sum(player)==21):\n",
        "            blackjacks += 1\n",
        "            ncards.append(len(player))  \n",
        "            if (len(player) < 9):\n",
        "                nhcards[(len(player)-2)] += 1      \n",
        "        \n",
        "\n",
        "    nc = np.array(ncards)\n",
        "\n",
        "    print(gamenames[g])\n",
        "\n",
        "    plt.hist(list(map(str,range(2,9))), bins=list(map(str,range(2,10))), align='left',color='salmon',weights=(nhcards/blackjacks))\n",
        "\n",
        "    plt.show();\n",
        "    print('Probabilidad de obtener 21: ', blackjacks/n,'\\n')\n",
        "    print('Número promedio de cartas necesarias para obtener 21: ', nc.mean(),'\\n')"
      ],
      "execution_count": null,
      "outputs": [
        {
          "output_type": "stream",
          "text": [
            "Baraja Española\n"
          ],
          "name": "stdout"
        },
        {
          "output_type": "display_data",
          "data": {
            "image/png": "[encoded data removed]",
            "text/plain": [
              "<Figure size 432x288 with 1 Axes>"
            ]
          },
          "metadata": {
            "tags": [],
            "needs_background": "light"
          }
        },
        {
          "output_type": "stream",
          "text": [
            "Probabilidad de obtener 21:  0.1578748 \n",
            "\n",
            "Número promedio de cartas necesarias para obtener 21:  3.4149224575423056 \n",
            "\n",
            "Baraja Poker\n"
          ],
          "name": "stdout"
        },
        {
          "output_type": "display_data",
          "data": {
            "image/png": "[encoded data removed]",
            "text/plain": [
              "<Figure size 432x288 with 1 Axes>"
            ]
          },
          "metadata": {
            "tags": [],
            "needs_background": "light"
          }
        },
        {
          "output_type": "stream",
          "text": [
            "Probabilidad de obtener 21:  0.1445455 \n",
            "\n",
            "Número promedio de cartas necesarias para obtener 21:  3.216019869176142 \n",
            "\n"
          ],
          "name": "stdout"
        }
      ]
    },
    {
      "cell_type": "markdown",
      "metadata": {
        "id": "IlejYaHKgrG0"
      },
      "source": [
        "2. Estimate the probability of getting a 21, the average number of cards required to complete 21 and plot the experimental distribution of the number of card required to complete 21 drawing cards sequentially from a shuffled Spanish 48-card deck with card values [1,2,3,4,5,6,7,10,10,10,1,2,3,4,5,6,7,8,9,10,10,10,1,2,3,4,5,6,7,8,9,10,10,10,1,2,3,4,5,6,7,8,9,10,10,10] and from a shuffled Poker 52-card deck with card values [1,2,3,4,5,6,7,8,9,10,10,10,10,1,2,3,4,5,6,7,8,9,10,10,10,10,1,2,3,4,5,6,7,8,9,10,10,10,10,1,2,3,4,5,6,7,8,9,10,10,10,10] using Montecarlo with 10 millions simulations."
      ]
    },
    {
      "cell_type": "code",
      "metadata": {
        "id": "2XGcqRfsm7_f",
        "outputId": "1a14eb4d-4382-4cf7-8b27-7ecf207208d1",
        "colab": {
          "base_uri": "https://localhost:8080/",
          "height": 687
        }
      },
      "source": [
        "games2 = [baraja_e2,baraja_p2]\n",
        "\n",
        "n = 10000000\n",
        "\n",
        "for g in range(2):\n",
        "\n",
        "    ncards = []\n",
        "    nhcards = np.zeros(7)\n",
        "    blackjacks = 0\n",
        "\n",
        "    for i in range(n):\n",
        "\n",
        "        poker_i = games2[g].copy()\n",
        "        player = []\n",
        "\n",
        "        while sum(player) < 21:\n",
        "            card = random.choice(poker_i)\n",
        "            player.append(card)\n",
        "            poker_i.remove(card)\n",
        "\n",
        "        if(sum(player)==21):\n",
        "            blackjacks += 1\n",
        "            ncards.append(len(player))   \n",
        "            if (len(player) < 9):\n",
        "                nhcards[(len(player)-2)] += 1     \n",
        "        \n",
        "\n",
        "    nc = np.array(ncards)\n",
        "\n",
        "    print(gamenames[g])\n",
        "\n",
        "    plt.hist(list(map(str,range(2,9))), bins=list(map(str,range(2,10))), align='left',color='salmon',weights=(nhcards/blackjacks))\n",
        "\n",
        "    plt.show();\n",
        "    print('Probabilidad de obtener 21: ', blackjacks/n,'\\n')\n",
        "    print('Número promedio de cartas necesarias para obtener 21: ', nc.mean(),'\\n')"
      ],
      "execution_count": null,
      "outputs": [
        {
          "output_type": "stream",
          "text": [
            "Baraja Española\n"
          ],
          "name": "stdout"
        },
        {
          "output_type": "display_data",
          "data": {
            "image/png": "[encoded data removed]",
            "text/plain": [
              "<Figure size 432x288 with 1 Axes>"
            ]
          },
          "metadata": {
            "tags": [],
            "needs_background": "light"
          }
        },
        {
          "output_type": "stream",
          "text": [
            "Probabilidad de obtener 21:  0.1496102 \n",
            "\n",
            "Número promedio de cartas necesarias para obtener 21:  3.698693671955522 \n",
            "\n",
            "Baraja Poker\n"
          ],
          "name": "stdout"
        },
        {
          "output_type": "display_data",
          "data": {
            "image/png": "[encoded data removed]",
            "text/plain": [
              "<Figure size 432x288 with 1 Axes>"
            ]
          },
          "metadata": {
            "tags": [],
            "needs_background": "light"
          }
        },
        {
          "output_type": "stream",
          "text": [
            "Probabilidad de obtener 21:  0.1400942 \n",
            "\n",
            "Número promedio de cartas necesarias para obtener 21:  3.5766741235540085 \n",
            "\n"
          ],
          "name": "stdout"
        }
      ]
    },
    {
      "cell_type": "markdown",
      "metadata": {
        "id": "HWXOPKcjHirV"
      },
      "source": [
        "3. Estimate the probability of getting a 21, the average total number of cards required to complete 21 (including the three that you start with) and plot the experimental distribution of the number of card required to complete 21 with drawing cards sequentially from a shuffled Spanish 48-card deck with 3 10’s and a shuffled Poker 52-card deck with 4 10’s, assuming that you have in your hand the cards [7,7,5]ae and the remaining deck has n/2 cards. You can pick the n/2 cards in the remaining deck in whatever way you choose but with restriction that this has maximum two 7s and three 5, you have to keep the remaining deck fixed through the simulations, use Montecarlo with 10 millions simulations."
      ]
    },
    {
      "cell_type": "code",
      "metadata": {
        "id": "8juarUemRwUz",
        "outputId": "f3fa60b3-7e68-4ba4-82d5-3c6a2d706612",
        "colab": {
          "base_uri": "https://localhost:8080/",
          "height": 683
        }
      },
      "source": [
        "baraja_e3 = [1,2,3,4,5,6,7,8,9,10,10,10,1,2,3,4,5,6,7,8,9,10,10,10,1,2,3,4,5,6,8,9,10,10,10,1,2,3,4,6,8,9,10,10,10]       #Baraja Española sin dos 7's y un 5\n",
        "baraja_p3= [1,2,3,4,5,6,7,8,9,10,10,10,10,1,2,3,4,5,6,7,8,9,10,10,10,10,1,2,3,4,5,6,8,9,10,10,10,10,1,2,3,4,6,8,9,10,10,10,10]    #Baraja Poker  sin dos 7's y un 5\n",
        "games3 = [baraja_e3,baraja_p3]\n",
        "\n",
        "n = 10000000\n",
        "\n",
        "for g in range(2):\n",
        "    ncards = []\n",
        "    blackjacks = 0\n",
        "    nhcards = np.zeros(6)\n",
        "    for i in range(n):\n",
        "      \n",
        "        poker_i = random.choices(games3[g], k=(len(games3[g])//2))\n",
        "        player = [7,7,5]\n",
        "\n",
        "        while sum(player) < 21:\n",
        "            card = random.choice(poker_i)\n",
        "            player.append(card)\n",
        "            poker_i.remove(card)\n",
        "\n",
        "        if(sum(player)==21):\n",
        "            blackjacks += 1\n",
        "            ncards.append(len(player))\n",
        "            if (len(player) < 8):\n",
        "                nhcards[(len(player)-2)] += 1\n",
        "\n",
        "\n",
        "    nc = np.array(ncards)\n",
        "\n",
        "    print(gamenames[g])\n",
        "\n",
        "    plt.hist(list(map(str,range(2,8))), bins=list(map(str,range(2,9))), align='left',color='salmon',weights=(nhcards/blackjacks))\n",
        "\n",
        "    plt.show();\n",
        "    print('Probabilidad de obtener 21: ', blackjacks/n,'\\n')\n",
        "    print('Número promedio de cartas necesarias para obtener 21: ', nc.mean(),'\\n')"
      ],
      "execution_count": null,
      "outputs": [
        {
          "output_type": "stream",
          "text": [
            "Baraja Española\n"
          ],
          "name": "stdout"
        },
        {
          "output_type": "display_data",
          "data": {
            "image/png": "[encoded data removed]",
            "text/plain": [
              "<Figure size 432x288 with 1 Axes>"
            ]
          },
          "metadata": {
            "tags": [],
            "needs_background": "light"
          }
        },
        {
          "output_type": "stream",
          "text": [
            "Probabilidad de obtener 21:  0.0968959 \n",
            "\n",
            "Número promedio de cartas necesarias para obtener 21:  4.081551438192947 \n",
            "\n",
            "Baraja Poker\n"
          ],
          "name": "stdout"
        },
        {
          "output_type": "display_data",
          "data": {
            "image/png": "[encoded data removed]",
            "text/plain": [
              "<Figure size 432x288 with 1 Axes>"
            ]
          },
          "metadata": {
            "tags": [],
            "needs_background": "light"
          }
        },
        {
          "output_type": "stream",
          "text": [
            "Probabilidad de obtener 21:  0.0882947 \n",
            "\n",
            "Número promedio de cartas necesarias para obtener 21:  4.074911631162459 \n",
            "\n"
          ],
          "name": "stdout"
        }
      ]
    },
    {
      "cell_type": "markdown",
      "metadata": {
        "id": "WMpAq77naXLF"
      },
      "source": [
        "4. Find two remaining decks with 12 cards for Alg Gr 1 9-11 and with 10 cards for Alg Gr 2 11-1; for a Spanish 48-card deck with 3 10’s and for a Poker 52-card deck with 4 10’s; one remaining has the highest probability of getting 21 (hot deck) and the other remaining s that has the lowest probability of getting 21(cold deck), assuming that you have in your hand the cards [7,7,5]. Calculate analytically the probabilities of getting a 21 for both the hot an cold deck, estimate this probabilities of getting a 21, the average total number of cards required to complete 21 (including the three that you start with) and plot the experimental distribution of the total number of card required to complete 21 (including the three that you start with) using Montecarlo with 10 millions simulations."
      ]
    },
    {
      "cell_type": "code",
      "metadata": {
        "id": "qMo_N3d8iYtF"
      },
      "source": [
        "def poker13():\n",
        "  return [1,2,3,4,5,6,7,8,9,10,11,12,13,1,2,3,4,5,6,7,8,9,10,11,12,13,1,2,3,4,5,6,7,8,9,10,11,12,13,1,2,3,4,5,6,7,8,9,10,11,12,13]\n",
        "def spanish():\n",
        "  return [1,2,3,4,5,6,7,8,9,10,10,10,1,2,3,4,5,6,7,8,9,10,11,12,1,2,3,4,5,6,7,8,9,10,11,12,1,2,3,4,5,6,7,8,9,10,11,12]\n",
        "def poker10():\n",
        "  return [1,2,3,4,5,6,7,8,9,10,10,10,10,1,2,3,4,5,6,7,8,9,10,10,10,10,1,2,3,4,5,6,7,8,9,10,10,10,10,1,2,3,4,5,6,7,8,9,10,10,10,10]"
      ],
      "execution_count": null,
      "outputs": []
    },
    {
      "cell_type": "code",
      "metadata": {
        "id": "NhhBkuvWqxcx"
      },
      "source": [
        "def analyticProb(deck):\n",
        "  return deck.count(2) / len(deck) + (deck.count(1)/len(deck) * (deck.count(1) - 1) / (len(deck) - 1) if deck.count(1) >= 2 else 0)"
      ],
      "execution_count": null,
      "outputs": []
    },
    {
      "cell_type": "code",
      "metadata": {
        "id": "tJzw2CEutY17"
      },
      "source": [
        "def monteCarlo21(deck, n_simulations, initial_hand = 0, n_cards_in_hand = 0):\n",
        "  count = 0\n",
        "  nCard_distribution = []\n",
        "  for i in range(n_simulations):\n",
        "    actual_deck = deck.copy()\n",
        "    actual_hand = initial_hand\n",
        "    actual_ncards = n_cards_in_hand\n",
        "    while actual_hand < 21:\n",
        "      card = random.choice(actual_deck)\n",
        "      actual_hand += card\n",
        "      actual_deck.remove(card)\n",
        "      actual_ncards += 1\n",
        "    if actual_hand == 21:\n",
        "      count += 1\n",
        "      nCard_distribution.append(actual_ncards)\n",
        "  return count / n_simulations, nCard_distribution"
      ],
      "execution_count": null,
      "outputs": []
    },
    {
      "cell_type": "code",
      "metadata": {
        "id": "pZUXfT4SVIWe",
        "outputId": "1ae9d7be-d42a-4d22-f4b3-249191695d9f",
        "colab": {
          "base_uri": "https://localhost:8080/",
          "height": 962
        }
      },
      "source": [
        "ensayos = 10000000 #Numero de remaining decks a probar.\n",
        "n_montecarlo = 1000000\n",
        "remaining_lengths = [12]\n",
        "decks = [(poker10() , \"Poker Deck\"), (spanish(), \"Spanish Deck\")]\n",
        "for length in remaining_lengths:\n",
        "  print(\"\\tANALYSIS WITH \",length,\" REMAINIG CARDS\\n\")\n",
        "  for mazo in decks:\n",
        "    print(mazo[1]+\":\\n\")\n",
        "    highest_prob = 0\n",
        "    hotest_deck = None\n",
        "    lowest_prob = 1\n",
        "    coldest_deck = None\n",
        "    for i in range(ensayos):\n",
        "      deck = mazo[0].copy()\n",
        "      deck.remove(7)\n",
        "      deck.remove(7)\n",
        "      deck.remove(5)\n",
        "      while len(deck) > length:\n",
        "        deck.remove(random.choice(deck))\n",
        "      prob = analyticProb(deck)\n",
        "      if prob >= highest_prob:\n",
        "        highest_prob = prob\n",
        "        hotest_deck = deck\n",
        "      if prob <= lowest_prob:\n",
        "        lowest_prob = prob\n",
        "        coldest_deck = deck\n",
        "    highest_prob_m, hotest_distribution = monteCarlo21(hotest_deck, n_montecarlo, 19, 3)\n",
        "    lowest_prob_m, coldest_distribution = monteCarlo21(coldest_deck, n_montecarlo, 19, 3)\n",
        "    print(\"Hotest Deck:\",hotest_deck)\n",
        "    print(\"Hotest Deck analytic probability: \",highest_prob)\n",
        "    print(\"Hotest Deck montecarlo probability: \",highest_prob_m)\n",
        "    print(\"\\nColdest Deck:\",coldest_deck)\n",
        "    print(\"Coldest Deck analytic probability: \",lowest_prob)\n",
        "    print(\"Coldest Deck montecarlo probability: \",lowest_prob_m)\n",
        "    fig, axs = plt.subplots(1, 2)\n",
        "    fig.suptitle(str(length)+\" Remainig Cards in \"+mazo[1])\n",
        "    axs[0].hist(hotest_distribution)\n",
        "    axs[1].hist(coldest_distribution)\n",
        "    axs[0].set_title(\"Hotest Deck Distribution\")\n",
        "    axs[1].set_title(\"Coldest Deck Distribution\")\n",
        "    print()\n",
        "  print()"
      ],
      "execution_count": null,
      "outputs": [
        {
          "output_type": "stream",
          "text": [
            "\tANALYSIS WITH  12  REMAINIG CARDS\n",
            "\n",
            "Poker Deck:\n",
            "\n",
            "Hotest Deck: [1, 2, 1, 2, 1, 2, 1, 2, 3, 10, 10, 10]\n",
            "Hotest Deck analytic probability:  0.4242424242424242\n",
            "Hotest Deck montecarlo probability:  0.423839\n",
            "\n",
            "Coldest Deck: [3, 4, 1, 3, 4, 5, 6, 8, 9, 10, 10, 10]\n",
            "Coldest Deck analytic probability:  0.0\n",
            "Coldest Deck montecarlo probability:  0.0\n",
            "\n",
            "Spanish Deck:\n",
            "\n",
            "Hotest Deck: [1, 2, 1, 2, 1, 2, 3, 1, 2, 3, 6, 7]\n",
            "Hotest Deck analytic probability:  0.4242424242424242\n",
            "Hotest Deck montecarlo probability:  0.424152\n",
            "\n",
            "Coldest Deck: [4, 8, 9, 1, 3, 4, 6, 7, 8, 9, 10, 11]\n",
            "Coldest Deck analytic probability:  0.0\n",
            "Coldest Deck montecarlo probability:  0.0\n",
            "\n",
            "\n"
          ],
          "name": "stdout"
        },
        {
          "output_type": "display_data",
          "data": {
            "image/png": "[encoded data removed]",
            "text/plain": [
              "<Figure size 432x288 with 2 Axes>"
            ]
          },
          "metadata": {
            "tags": [],
            "needs_background": "light"
          }
        },
        {
          "output_type": "display_data",
          "data": {
            "image/png": "[encoded data removed]",
            "text/plain": [
              "<Figure size 432x288 with 2 Axes>"
            ]
          },
          "metadata": {
            "tags": [],
            "needs_background": "light"
          }
        }
      ]
    },
    {
      "cell_type": "markdown",
      "metadata": {
        "id": "fv53OvJPjvvg"
      },
      "source": [
        "Otra forma al punto 4\n"
      ]
    },
    {
      "cell_type": "code",
      "metadata": {
        "id": "iUx88xofjvES",
        "outputId": "f32aae14-5e2b-48fe-d18d-f4e491fa5768",
        "colab": {
          "base_uri": "https://localhost:8080/",
          "height": 747
        }
      },
      "source": [
        "n = 10000000\n",
        "\n",
        "for g in range(2):\n",
        "\n",
        "    ncards = []\n",
        "    blackjacks = 0\n",
        "    nhcards = np.zeros(6)\n",
        "\n",
        "    poker_0 = games3[g].copy()\n",
        "    poker_0 = random.choices(poker_0, k=(len(games3[g])//2))\n",
        "\n",
        "    print(poker_0, len(poker_0))\n",
        "\n",
        "    teo_prob = poker_0.count(2)/len(poker_0) + poker_0.count(1)*(poker_0.count(1)-1)/(len(poker_0)*(len(poker_0)-1))\n",
        "\n",
        "    for i in range(n):\n",
        "        poker_i = poker_0.copy()\n",
        "        player = [7,7,5]\n",
        "\n",
        "        while sum(player) < 21:\n",
        "            card = random.choice(poker_i)\n",
        "            player.append(card)\n",
        "            poker_i.remove(card)\n",
        "\n",
        "        if(sum(player)==21):\n",
        "            blackjacks += 1\n",
        "            ncards.append(len(player))\n",
        "            if (len(player) < 8):\n",
        "                nhcards[(len(player)-2)] += 1\n",
        "\n",
        "    nc = np.array(ncards)\n",
        "\n",
        "    print(gamenames[g])\n",
        "\n",
        "    plt.hist(list(map(str,range(2,8))), bins=list(map(str,range(2,9))), align='left', color='lightblue', weights=(nhcards/blackjacks))\n",
        "    plt.xlabel('Número de cartas para obtener Blackjack')\n",
        "    plt.ylabel('Porcentaje')\n",
        "    plt.show();\n",
        "    \n",
        "    print('Probabilidad de lograr Blackjack:\\t', blackjacks/n, '\\nNúmero de cartas promedio:\\t\\t', nc.mean())\n",
        "    print('Probabilidad teórica:\\t\\t\\t',teo_prob,'\\n')"
      ],
      "execution_count": null,
      "outputs": [
        {
          "output_type": "stream",
          "text": [
            "[10, 9, 3, 5, 7, 10, 5, 6, 10, 2, 9, 10, 10, 3, 2, 8, 10, 4, 10, 10, 9, 7] 22\n",
            "Baraja Española\n"
          ],
          "name": "stdout"
        },
        {
          "output_type": "display_data",
          "data": {
            "image/png": "[encoded data removed]",
            "text/plain": [
              "<Figure size 432x288 with 1 Axes>"
            ]
          },
          "metadata": {
            "tags": [],
            "needs_background": "light"
          }
        },
        {
          "output_type": "stream",
          "text": [
            "Probabilidad de lograr Blackjack:\t 0.0910044 \n",
            "Número de cartas promedio:\t\t 4.0\n",
            "Probabilidad teórica:\t\t\t 0.09090909090909091 \n",
            "\n",
            "[3, 10, 10, 10, 10, 5, 2, 10, 10, 1, 2, 1, 4, 10, 10, 3, 8, 2, 4, 1, 5, 10, 10, 5] 24\n",
            "Baraja Poker\n"
          ],
          "name": "stdout"
        },
        {
          "output_type": "display_data",
          "data": {
            "image/png": "[encoded data removed]",
            "text/plain": [
              "<Figure size 432x288 with 1 Axes>"
            ]
          },
          "metadata": {
            "tags": [],
            "needs_background": "light"
          }
        },
        {
          "output_type": "stream",
          "text": [
            "Probabilidad de lograr Blackjack:\t 0.1356216 \n",
            "Número de cartas promedio:\t\t 4.079967350333575\n",
            "Probabilidad teórica:\t\t\t 0.1358695652173913 \n",
            "\n"
          ],
          "name": "stdout"
        }
      ]
    },
    {
      "cell_type": "markdown",
      "metadata": {
        "id": "TYC1yIrug3Me"
      },
      "source": [
        "5. Estimate the average amount of money (expected value) that Ben wins or losses on a weekend if Ben goes to Vegas every weekend (Friday, Saturday and Sunday), plays every weekend day 10 hours, each game takes 3 mins. Assume that for each game he gets two possibilities, in one he gets in his hand the cards [7,7,5] and a remaining hot deck cards with 12 cards for Alg Gr 1 9-11 and with 10 cards for Alg Gr 2 11-1 which case he bets $1000 this happens with probability 1/10; in the other one he gets no cards in his hand a complete shuffled deck in which case he bets $10, this happens with the remaining probability 9/10. Use 10000 Montecarlo simulations to estimated the expected amount of money that Ben wins or losses on a weekend for a Spanish 48-card deck with 3 10’s and for a Poker 52-card deck with 4 10’s."
      ]
    },
    {
      "cell_type": "code",
      "metadata": {
        "id": "Kc8GeujTdYPC",
        "outputId": "88c91c5d-e85a-4d91-b078-e883dc331656",
        "colab": {
          "base_uri": "https://localhost:8080/",
          "height": 447
        }
      },
      "source": [
        "n_montecarlo = 100000\n",
        "decks = [(poker13() , [2, 1, 2, 1, 2, 1, 2, 5, 8, 9], \"Poker Deck\"), (spanish(), [1, 2, 1, 2, 1, 2, 1, 2, 10, 12], \"Spanish Deck\")]\n",
        "n_games = 600\n",
        "dist = []\n",
        "for mazo in decks:\n",
        "  print(\"ANALYSIS WITH \",mazo[2],\"\\n\")\n",
        "  n_card_distribution = []\n",
        "  mean = 0\n",
        "  for i in range(n_montecarlo):\n",
        "    money = 0\n",
        "    for j in range(n_games):\n",
        "      isHot = random.randrange(1,10) == 1\n",
        "      bet = 1000 if isHot else 10\n",
        "      deck = mazo[1].copy() if isHot else mazo[0].copy()\n",
        "      hand = 19 if isHot else 0 \n",
        "      n_cards = 3 if isHot else 0\n",
        "      while hand < 21:\n",
        "        card = random.choice(deck)\n",
        "        hand += card\n",
        "        deck.remove(card)\n",
        "        n_cards += 1\n",
        "      if hand == 21 and i < 10000:\n",
        "        n_card_distribution.append(n_cards)\n",
        "    money += bet if hand == 21 else -bet\n",
        "    mean += money\n",
        "  mean /= n_montecarlo\n",
        "  dist.append(n_card_distribution)\n",
        "  print(\"The estimated amount is:\",mean,\"\\n\")\n",
        "fig, axs = plt.subplots(1, 2)\n",
        "fig.suptitle(\"Number of cards distribution\")\n",
        "axs[0].hist(dist[0])\n",
        "axs[1].hist(dist[1])\n",
        "axs[0].set_title(\"Poker Deck Distribution\")\n",
        "axs[1].set_title(\"Spanish Deck Distribution\")"
      ],
      "execution_count": null,
      "outputs": [
        {
          "output_type": "stream",
          "text": [
            "ANALYSIS WITH  Poker Deck \n",
            "\n",
            "The estimated amount is: -15.1248 \n",
            "\n",
            "ANALYSIS WITH  Spanish Deck \n",
            "\n",
            "The estimated amount is: -0.6735 \n",
            "\n"
          ],
          "name": "stdout"
        },
        {
          "output_type": "execute_result",
          "data": {
            "text/plain": [
              "Text(0.5, 1.0, 'Spanish Deck Distribution')"
            ]
          },
          "metadata": {
            "tags": []
          },
          "execution_count": 65
        },
        {
          "output_type": "display_data",
          "data": {
            "image/png": "[encoded data removed]",
            "text/plain": [
              "<Figure size 432x288 with 2 Axes>"
            ]
          },
          "metadata": {
            "tags": [],
            "needs_background": "light"
          }
        }
      ]
    },
    {
      "cell_type": "code",
      "metadata": {
        "id": "PFzzDbSMfdmq",
        "outputId": "60c81037-d500-41cc-da6f-6f64f01f6c4e",
        "colab": {
          "base_uri": "https://localhost:8080/",
          "height": 1000
        }
      },
      "source": [
        "n = 1000000\n",
        "\n",
        "hotest_deck10 =  [1,1,1,1,2,2,2,2,10,10]\n",
        "coldest_deck10 = [10,10,10,10,8,8,9,9,5,6]\n",
        "hotest_deck12 =  [1,1,1,1,2,2,2,2,10,10,5,5]\n",
        "coldest_deck12 = [10,10,10,10,8,8,9,9,5,5,6,6]\n",
        "\n",
        "decks = [hotest_deck10,coldest_deck10,hotest_deck12,coldest_deck12]\n",
        "deck_names = ['Hottest 10 deck', 'Coldest 10 deck', 'Hottest 12 deck', 'Coldest 12 deck']\n",
        "\n",
        "for d in range(4):\n",
        "    teo_prob = decks[d].count(2)/len(decks[d]) + decks[d].count(1)*(decks[d].count(1)-1)/(len(decks[d])*(len(decks[d])-1))\n",
        "\n",
        "    ncards = []\n",
        "    blackjacks = 0\n",
        "    nhcards = np.zeros(6)\n",
        "\n",
        "    for i in range(n):\n",
        "        poker_i = decks[d].copy()\n",
        "        player = [7,7,5]\n",
        "\n",
        "        while sum(player) < 21:\n",
        "            card = random.choice(poker_i)\n",
        "            player.append(card)\n",
        "            poker_i.remove(card)\n",
        "\n",
        "        if(sum(player)==21):\n",
        "            blackjacks += 1\n",
        "            ncards.append(len(player))\n",
        "            if (len(player) < 8):\n",
        "                nhcards[(len(player)-2)] += 1\n",
        "\n",
        "    nc = np.array(ncards)\n",
        "\n",
        "    print(deck_names[d])\n",
        "\n",
        "    plt.hist(list(map(str,range(2,8))), bins=list(map(str,range(2,9))), align='left', color='lightgreen', weights=(nhcards/blackjacks))\n",
        "    plt.xlabel('Número de cartas para obtener Blackjack')\n",
        "    plt.ylabel('Porcentaje')\n",
        "    plt.show();\n",
        "    \n",
        "    print('Probabilidad de lograr Blackjack:\\t', blackjacks/n, '\\nNúmero de cartas promedio:\\t\\t', nc.mean())\n",
        "    print('Probabilidad teórica:\\t\\t\\t',teo_prob,'\\n')"
      ],
      "execution_count": null,
      "outputs": [
        {
          "output_type": "stream",
          "text": [
            "Hottest 10 deck\n"
          ],
          "name": "stdout"
        },
        {
          "output_type": "display_data",
          "data": {
            "image/png": "[encoded data removed]",
            "text/plain": [
              "<Figure size 432x288 with 1 Axes>"
            ]
          },
          "metadata": {
            "tags": [],
            "needs_background": "light"
          }
        },
        {
          "output_type": "stream",
          "text": [
            "Probabilidad de lograr Blackjack:\t 0.532904 \n",
            "Número de cartas promedio:\t\t 4.250167009442602\n",
            "Probabilidad teórica:\t\t\t 0.5333333333333333 \n",
            "\n",
            "Coldest 10 deck\n"
          ],
          "name": "stdout"
        },
        {
          "output_type": "stream",
          "text": [
            "/usr/local/lib/python3.6/dist-packages/ipykernel_launcher.py:37: RuntimeWarning: invalid value encountered in true_divide\n"
          ],
          "name": "stderr"
        },
        {
          "output_type": "display_data",
          "data": {
            "image/png": "[encoded data removed]",
            "text/plain": [
              "<Figure size 432x288 with 1 Axes>"
            ]
          },
          "metadata": {
            "tags": [],
            "needs_background": "light"
          }
        },
        {
          "output_type": "stream",
          "text": [
            "Probabilidad de lograr Blackjack:\t 0.0 \n",
            "Número de cartas promedio:\t\t nan\n",
            "Probabilidad teórica:\t\t\t 0.0 \n",
            "\n"
          ],
          "name": "stdout"
        },
        {
          "output_type": "stream",
          "text": [
            "/usr/local/lib/python3.6/dist-packages/ipykernel_launcher.py:42: RuntimeWarning: Mean of empty slice.\n",
            "/usr/local/lib/python3.6/dist-packages/numpy/core/_methods.py:161: RuntimeWarning: invalid value encountered in double_scalars\n",
            "  ret = ret.dtype.type(ret / rcount)\n"
          ],
          "name": "stderr"
        },
        {
          "output_type": "stream",
          "text": [
            "Hottest 12 deck\n"
          ],
          "name": "stdout"
        },
        {
          "output_type": "display_data",
          "data": {
            "image/png": "[encoded data removed]",
            "text/plain": [
              "<Figure size 432x288 with 1 Axes>"
            ]
          },
          "metadata": {
            "tags": [],
            "needs_background": "light"
          }
        },
        {
          "output_type": "stream",
          "text": [
            "Probabilidad de lograr Blackjack:\t 0.425074 \n",
            "Número de cartas promedio:\t\t 4.213920399742163\n",
            "Probabilidad teórica:\t\t\t 0.4242424242424242 \n",
            "\n",
            "Coldest 12 deck\n"
          ],
          "name": "stdout"
        },
        {
          "output_type": "display_data",
          "data": {
            "image/png": "[encoded data removed]",
            "text/plain": [
              "<Figure size 432x288 with 1 Axes>"
            ]
          },
          "metadata": {
            "tags": [],
            "needs_background": "light"
          }
        },
        {
          "output_type": "stream",
          "text": [
            "Probabilidad de lograr Blackjack:\t 0.0 \n",
            "Número de cartas promedio:\t\t nan\n",
            "Probabilidad teórica:\t\t\t 0.0 \n",
            "\n"
          ],
          "name": "stdout"
        }
      ]
    },
    {
      "cell_type": "markdown",
      "metadata": {
        "id": "A241FYi_gLJ0"
      },
      "source": [
        "Otra forma al punto 5"
      ]
    },
    {
      "cell_type": "code",
      "metadata": {
        "id": "4AACKJBxflKd",
        "outputId": "fcd147e9-bd02-400b-d888-d41f512e75c2",
        "colab": {
          "base_uri": "https://localhost:8080/",
          "height": 1000
        }
      },
      "source": [
        "n = 100000\n",
        "\n",
        "hotest_deck10 =  [1,1,1,1,2,2,2,2,10,10]\n",
        "hotest_deck12 =  [1,1,1,1,2,2,2,2,10,10,5,5]\n",
        "\n",
        "decks = [hotest_deck10, hotest_deck12]\n",
        "deck_names = ['10 cartas', '12 cartas']\n",
        "\n",
        "for deck_num in range(2):\n",
        "\n",
        "    for d in range(4):\n",
        "        money = 0\n",
        "        \n",
        "        teo_prob = poker_i.count(2)/len(poker_i) + poker_i.count(1)*(poker_i.count(1)-1)/(len(poker_i)*(len(poker_i)-1))\n",
        "\n",
        "        ncards = []\n",
        "        blackjacks = 0\n",
        "        nhcards = np.zeros(6)\n",
        "\n",
        "        for i in range(n):\n",
        "\n",
        "            hot = random.random() < 0.1\n",
        "\n",
        "            player = [7,7,5]\n",
        "\n",
        "            bet = 0\n",
        "            \n",
        "            if (hot):\n",
        "                poker_i = decks[deck_num].copy()\n",
        "                bet = 1000\n",
        "\n",
        "            else:\n",
        "                poker_i = games[d].copy()\n",
        "                poker_i.remove(7)\n",
        "                poker_i.remove(7)\n",
        "                poker_i.remove(5)\n",
        "                bet = 10\n",
        "\n",
        "            while sum(player) < 21:\n",
        "                card = random.choice(poker_i)\n",
        "                player.append(card)\n",
        "                poker_i.remove(card)\n",
        "\n",
        "            if (sum(player)==21):\n",
        "                blackjacks += 1\n",
        "                ncards.append(len(player))\n",
        "                if (len(player) < 8):\n",
        "                    nhcards[(len(player)-2)] += 1\n",
        "                money += bet\n",
        "            else:\n",
        "                money -= bet\n",
        "\n",
        "        nc = np.array(ncards)\n",
        "\n",
        "        print(gamenames[d],'con',deck_names[deck_num])\n",
        "\n",
        "        plt.hist(list(map(str,range(2,8))), bins=list(map(str,range(2,9))), align='left', color='lightgreen', weights=(nhcards/blackjacks))\n",
        "        plt.xlabel('Número de cartas para obtener Blackjack')\n",
        "        plt.ylabel('Porcentaje')\n",
        "        plt.show();\n",
        "        \n",
        "        print('Probabilidad de lograr Blackjack:\\t', blackjacks/n, '\\nNúmero de cartas promedio:\\t\\t', nc.mean())\n",
        "        print('Dinero final neto:\\t\\t\\t',money,'\\nGanancia promedio:\\t\\t\\t',money/n,'\\n')\n",
        "\n"
      ],
      "execution_count": null,
      "outputs": [
        {
          "output_type": "stream",
          "text": [
            "Baraja española con 10 cartas\n"
          ],
          "name": "stdout"
        },
        {
          "output_type": "display_data",
          "data": {
            "image/png": "[encoded data removed]",
            "text/plain": [
              "<Figure size 432x288 with 1 Axes>"
            ]
          },
          "metadata": {
            "tags": [],
            "needs_background": "light"
          }
        },
        {
          "output_type": "stream",
          "text": [
            "Probabilidad de lograr Blackjack:\t 0.13935 \n",
            "Número de cartas promedio:\t\t 4.133261571582347\n",
            "Dinero final neto:\t\t\t -179770 \n",
            "Ganancia promedio:\t\t\t -1.7977 \n",
            "\n",
            "Poker 13 con 10 cartas\n"
          ],
          "name": "stdout"
        },
        {
          "output_type": "display_data",
          "data": {
            "image/png": "[encoded data removed]",
            "text/plain": [
              "<Figure size 432x288 with 1 Axes>"
            ]
          },
          "metadata": {
            "tags": [],
            "needs_background": "light"
          }
        },
        {
          "output_type": "stream",
          "text": [
            "Probabilidad de lograr Blackjack:\t 0.13145 \n",
            "Número de cartas promedio:\t\t 4.140585774058577\n",
            "Dinero final neto:\t\t\t 95490 \n",
            "Ganancia promedio:\t\t\t 0.9549 \n",
            "\n",
            "Baraja española 10 con 10 cartas\n"
          ],
          "name": "stdout"
        },
        {
          "output_type": "display_data",
          "data": {
            "image/png": "[encoded data removed]",
            "text/plain": [
              "<Figure size 432x288 with 1 Axes>"
            ]
          },
          "metadata": {
            "tags": [],
            "needs_background": "light"
          }
        },
        {
          "output_type": "stream",
          "text": [
            "Probabilidad de lograr Blackjack:\t 0.13769 \n",
            "Número de cartas promedio:\t\t 4.13806376643184\n",
            "Dinero final neto:\t\t\t -117750 \n",
            "Ganancia promedio:\t\t\t -1.1775 \n",
            "\n",
            "Poker 10 con 10 cartas\n"
          ],
          "name": "stdout"
        },
        {
          "output_type": "display_data",
          "data": {
            "image/png": "[encoded data removed]",
            "text/plain": [
              "<Figure size 432x288 with 1 Axes>"
            ]
          },
          "metadata": {
            "tags": [],
            "needs_background": "light"
          }
        },
        {
          "output_type": "stream",
          "text": [
            "Probabilidad de lograr Blackjack:\t 0.13239 \n",
            "Número de cartas promedio:\t\t 4.141249339073948\n",
            "Dinero final neto:\t\t\t -58060 \n",
            "Ganancia promedio:\t\t\t -0.5806 \n",
            "\n",
            "Baraja española con 12 cartas\n"
          ],
          "name": "stdout"
        },
        {
          "output_type": "display_data",
          "data": {
            "image/png": "[encoded data removed]",
            "text/plain": [
              "<Figure size 432x288 with 1 Axes>"
            ]
          },
          "metadata": {
            "tags": [],
            "needs_background": "light"
          }
        },
        {
          "output_type": "stream",
          "text": [
            "Probabilidad de lograr Blackjack:\t 0.12742 \n",
            "Número de cartas promedio:\t\t 4.115444985088683\n",
            "Dinero final neto:\t\t\t -2375690 \n",
            "Ganancia promedio:\t\t\t -23.7569 \n",
            "\n",
            "Poker 13 con 12 cartas\n"
          ],
          "name": "stdout"
        },
        {
          "output_type": "display_data",
          "data": {
            "image/png": "[encoded data removed]",
            "text/plain": [
              "<Figure size 432x288 with 1 Axes>"
            ]
          },
          "metadata": {
            "tags": [],
            "needs_background": "light"
          }
        },
        {
          "output_type": "stream",
          "text": [
            "Probabilidad de lograr Blackjack:\t 0.12076 \n",
            "Número de cartas promedio:\t\t 4.113116926134482\n",
            "Dinero final neto:\t\t\t -2305850 \n",
            "Ganancia promedio:\t\t\t -23.0585 \n",
            "\n",
            "Baraja española 10 con 12 cartas\n"
          ],
          "name": "stdout"
        },
        {
          "output_type": "display_data",
          "data": {
            "image/png": "[encoded data removed]",
            "text/plain": [
              "<Figure size 432x288 with 1 Axes>"
            ]
          },
          "metadata": {
            "tags": [],
            "needs_background": "light"
          }
        },
        {
          "output_type": "stream",
          "text": [
            "Probabilidad de lograr Blackjack:\t 0.1277 \n",
            "Número de cartas promedio:\t\t 4.114956930305404\n",
            "Dinero final neto:\t\t\t -2405820 \n",
            "Ganancia promedio:\t\t\t -24.0582 \n",
            "\n",
            "Poker 10 con 12 cartas\n"
          ],
          "name": "stdout"
        },
        {
          "output_type": "display_data",
          "data": {
            "image/png": "[encoded data removed]",
            "text/plain": [
              "<Figure size 432x288 with 1 Axes>"
            ]
          },
          "metadata": {
            "tags": [],
            "needs_background": "light"
          }
        },
        {
          "output_type": "stream",
          "text": [
            "Probabilidad de lograr Blackjack:\t 0.11942 \n",
            "Número de cartas promedio:\t\t 4.112209010216044\n",
            "Dinero final neto:\t\t\t -2232300 \n",
            "Ganancia promedio:\t\t\t -22.323 \n",
            "\n"
          ],
          "name": "stdout"
        }
      ]
    }
  ]
}