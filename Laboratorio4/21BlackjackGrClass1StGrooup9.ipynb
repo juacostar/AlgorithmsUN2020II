{
  "nbformat": 4,
  "nbformat_minor": 0,
  "metadata": {
    "colab": {
      "name": " 21BlackjackGrClass1StGrooup9.ipynb",
      "provenance": [],
      "collapsed_sections": [],
      "include_colab_link": true
    },
    "kernelspec": {
      "name": "python3",
      "display_name": "Python 3"
    }
  },
  "cells": [
    {
      "cell_type": "markdown",
      "metadata": {
        "id": "view-in-github",
        "colab_type": "text"
      },
      "source": [
        "<a href=\"https://colab.research.google.com/github/juacostar/AlgorithmsUN2020II/blob/master/Laboratorio4/21BlackjackGrClass1StGrooup9.ipynb\" target=\"_parent\"><img src=\"https://colab.research.google.com/assets/colab-badge.svg\" alt=\"Open In Colab\"/></a>"
      ]
    },
    {
      "cell_type": "code",
      "metadata": {
        "id": "Uw9xL5p-P_to",
        "colab_type": "code",
        "colab": {}
      },
      "source": [
        "import random\n",
        "import numpy as np\n",
        "import random\n",
        "import matplotlib.pyplot as plt"
      ],
      "execution_count": 2,
      "outputs": []
    },
    {
      "cell_type": "code",
      "metadata": {
        "id": "cHWmAvylgAP6",
        "colab_type": "code",
        "colab": {}
      },
      "source": [
        "baraja = [1,2,3,4,5,6,7,8,9,10,11,12]*4\n",
        "barajaplus = [1,2,3,4,5,6,7,8,9,10,10,10]*4\n",
        "poker = [1,2,3,4,5,6,7,8,9,10,11,12,13]*4\n",
        "pokerplus = [1,2,3,4,5,6,7,8,9,10,10,10,10]*4\n",
        "\n",
        "gamenames = ['Baraja española', 'Poker 13', 'Baraja española 10', 'Poker 10']\n",
        "games = [baraja,poker,barajaplus,pokerplus]"
      ],
      "execution_count": 4,
      "outputs": []
    },
    {
      "cell_type": "markdown",
      "metadata": {
        "id": "g--qXvKJmxAU",
        "colab_type": "text"
      },
      "source": [
        "1. Probabilidad de sacar 21"
      ]
    },
    {
      "cell_type": "code",
      "metadata": {
        "id": "bbLPchFalDe0",
        "colab_type": "code",
        "colab": {
          "base_uri": "https://localhost:8080/",
          "height": 35
        },
        "outputId": "43e5acdf-86c6-41a5-eb44-82a4a541a3f1"
      },
      "source": [
        "n = 10000000\n",
        "veintiunas = 0\n",
        "for i in range(n):\n",
        "  poker_deck = [1, 2, 3, 4, 5, 6, 7, 8, 9, 10, 10, 10, 10, 1, 2, 3, 4, 5, 6, 7, 8, 9, 10, 10, 10, 10, 1, 2, 3, 4, 5, 6, 7, 8, 9, 10, 10, 10, 10, 1, 2, 3, 4, 5, 6, 7, 8, 9, 10, 10, 10, 10]\n",
        "  cuenta = 0\n",
        "  while cuenta < 21:\n",
        "    carta = random.choice(poker_deck)\n",
        "    poker_deck.remove(carta)\n",
        "    cuenta +=  carta\n",
        "  if cuenta == 21:\n",
        "    veintiunas += 1\n",
        "print(\"Probabilidad de sacar 21 es:\", veintiunas / n)"
      ],
      "execution_count": null,
      "outputs": [
        {
          "output_type": "stream",
          "text": [
            "Probabilidad de sacar 21 es: 0.1399733\n"
          ],
          "name": "stdout"
        }
      ]
    },
    {
      "cell_type": "markdown",
      "metadata": {
        "id": "I7FxduBanbVh",
        "colab_type": "text"
      },
      "source": [
        "\n",
        "1. y 2. Primer Método de sacar 21 con todo tipo de barajas\n"
      ]
    },
    {
      "cell_type": "code",
      "metadata": {
        "id": "BU2I5EfPnluI",
        "colab_type": "code",
        "colab": {
          "base_uri": "https://localhost:8080/",
          "height": 914
        },
        "outputId": "bbb0cdcd-aad6-4028-8684-5fcd5da413bd"
      },
      "source": [
        "baraja = [1,2,3,4,5,6,7,8,9,10,11,12]*4\n",
        "poker = [1,2,3,4,5,6,7,8,9,10,11,12,13]*4\n",
        "pokerplus = [1,2,3,4,5,6,7,8,9,10,10,10,10]*4\n",
        "\n",
        "gamenames = ['Baraja española','Poker 13','Poker 10']\n",
        "games = [baraja,poker,pokerplus]\n",
        "\n",
        "n = 100000\n",
        "\n",
        "for g in range(3):\n",
        "\n",
        "    ncards = []\n",
        "    results = np.zeros(13)\n",
        "    blackjacks = 0\n",
        "\n",
        "    for i in range(n):\n",
        "\n",
        "        poker_i = games[g].copy()\n",
        "        player = []\n",
        "\n",
        "        while sum(player) < 21:\n",
        "            card = random.choice(poker_i)\n",
        "            player.append(card)\n",
        "            poker_i.remove(card)\n",
        "\n",
        "        results[sum(player)-21] += 1\n",
        "\n",
        "        if(sum(player)==21):\n",
        "            blackjacks += 1\n",
        "            ncards.append(len(player))        \n",
        "        \n",
        "\n",
        "    nc = np.array(ncards)\n",
        "\n",
        "    print(gamenames[g])\n",
        "\n",
        "    plt.hist(list(map(str,range(21,34))), bins=list(map(str,range(21,35))), align='left',color='salmon',weights=(results/n))\n",
        "\n",
        "    plt.show();\n",
        "\n",
        "    print(blackjacks/n, nc.mean(),'\\n')"
      ],
      "execution_count": null,
      "outputs": [
        {
          "output_type": "stream",
          "text": [
            "Baraja española\n"
          ],
          "name": "stdout"
        },
        {
          "output_type": "display_data",
          "data": {
            "image/png": "[encoded data removed]",
            "text/plain": [
              "<Figure size 432x288 with 1 Axes>"
            ]
          },
          "metadata": {
            "tags": [],
            "needs_background": "light"
          }
        },
        {
          "output_type": "stream",
          "text": [
            "0.15879 3.425845456262989 \n",
            "\n",
            "Poker 13\n"
          ],
          "name": "stdout"
        },
        {
          "output_type": "display_data",
          "data": {
            "image/png": "[encoded data removed]",
            "text/plain": [
              "<Figure size 432x288 with 1 Axes>"
            ]
          },
          "metadata": {
            "tags": [],
            "needs_background": "light"
          }
        },
        {
          "output_type": "stream",
          "text": [
            "0.14576 3.2131586169045003 \n",
            "\n",
            "Poker 10\n"
          ],
          "name": "stdout"
        },
        {
          "output_type": "display_data",
          "data": {
            "image/png": "[encoded data removed]",
            "text/plain": [
              "<Figure size 432x288 with 1 Axes>"
            ]
          },
          "metadata": {
            "tags": [],
            "needs_background": "light"
          }
        },
        {
          "output_type": "stream",
          "text": [
            "0.14133 3.576310762046275 \n",
            "\n"
          ],
          "name": "stdout"
        }
      ]
    },
    {
      "cell_type": "markdown",
      "metadata": {
        "id": "SKsSVONjm6jr",
        "colab_type": "text"
      },
      "source": [
        "3. Probabilidad de sacar 21 con n/2 cartas y teniendo 19"
      ]
    },
    {
      "cell_type": "code",
      "metadata": {
        "id": "2XGcqRfsm7_f",
        "colab_type": "code",
        "colab": {
          "base_uri": "https://localhost:8080/",
          "height": 914
        },
        "outputId": "ab545555-9b3a-4fea-dc25-8cff094c402c"
      },
      "source": [
        "n = 10000000\n",
        "\n",
        "for g in range(3):\n",
        "    ncards = []\n",
        "    results = np.zeros(13)\n",
        "    blackjacks = 0\n",
        "\n",
        "    for i in range(n):\n",
        "      \n",
        "        poker_i = random.choices(games[g], k=(len(games[g])//2))\n",
        "        player = [19]\n",
        "\n",
        "        while sum(player) < 21:\n",
        "            card = random.choice(poker_i)\n",
        "            player.append(card)\n",
        "            poker_i.remove(card)\n",
        "\n",
        "        results[sum(player)-21] += 1\n",
        "\n",
        "        if(sum(player)==21):\n",
        "            blackjacks += 1\n",
        "            ncards.append(len(player))\n",
        "            #print(player)\n",
        "\n",
        "    nc = np.array(ncards)\n",
        "\n",
        "    print(gamenames[g])\n",
        "\n",
        "    plt.hist(list(map(str,range(21,34))), bins=list(map(str,range(21,35))), align='left',color='salmon',weights=(results/n))\n",
        "\n",
        "    plt.show();\n",
        "\n",
        "    print(blackjacks/n, nc.mean(),'\\n')"
      ],
      "execution_count": null,
      "outputs": [
        {
          "output_type": "stream",
          "text": [
            "Baraja española\n"
          ],
          "name": "stdout"
        },
        {
          "output_type": "display_data",
          "data": {
            "image/png": "[encoded data removed]",
            "text/plain": [
              "<Figure size 432x288 with 1 Axes>"
            ]
          },
          "metadata": {
            "tags": [],
            "needs_background": "light"
          }
        },
        {
          "output_type": "stream",
          "text": [
            "0.09057 2.0800485812079055 \n",
            "\n",
            "Poker 13\n"
          ],
          "name": "stdout"
        },
        {
          "output_type": "display_data",
          "data": {
            "image/png": "[encoded data removed]",
            "text/plain": [
              "<Figure size 432x288 with 1 Axes>"
            ]
          },
          "metadata": {
            "tags": [],
            "needs_background": "light"
          }
        },
        {
          "output_type": "stream",
          "text": [
            "0.08398 2.0707311264586807 \n",
            "\n",
            "Poker 10\n"
          ],
          "name": "stdout"
        },
        {
          "output_type": "display_data",
          "data": {
            "image/png": "[encoded data removed]",
            "text/plain": [
              "<Figure size 432x288 with 1 Axes>"
            ]
          },
          "metadata": {
            "tags": [],
            "needs_background": "light"
          }
        },
        {
          "output_type": "stream",
          "text": [
            "0.08223 2.0698042077100816 \n",
            "\n"
          ],
          "name": "stdout"
        }
      ]
    },
    {
      "cell_type": "markdown",
      "metadata": {
        "id": "MpnV9BC-RmLt",
        "colab_type": "text"
      },
      "source": [
        "#### 3.Probabilidad de tener cartas 7,7 y 5 y sacar 21\n"
      ]
    },
    {
      "cell_type": "code",
      "metadata": {
        "id": "8juarUemRwUz",
        "colab_type": "code",
        "colab": {
          "base_uri": "https://localhost:8080/",
          "height": 334
        },
        "outputId": "08210040-46b3-406f-b792-30640146dad1"
      },
      "source": [
        "n = 10000000\n",
        "results = np.zeros(13)\n",
        "blackjacks = 0\n",
        "ncards = []\n",
        "\n",
        "for i in range(n):\n",
        "    player = [7,7,5]\n",
        "    poker_i = [1,1,1,1,2,2,2,2,3,3,3,3,4,4,4,4,5,5,5,6]\n",
        "    while sum(player) < 21:\n",
        "        card = random.choice(poker_i)\n",
        "        player.append(card)\n",
        "        poker_i.remove(card)\n",
        "\n",
        "    results[sum(player)-21] += 1\n",
        "\n",
        "    if(sum(player)==21):\n",
        "        blackjacks += 1\n",
        "        ncards.append(len(player))\n",
        "        #print(player)\n",
        "nc = np.array(ncards)\n",
        "plt.hist(list(map(str,range(21,34))), bins=list(map(str,range(21,35))), align='left',color='salmon',weights=(results/n))\n",
        "\n",
        "plt.show();\n",
        "print('La probabilidad de sacar 21 teniendo la mitad de la baraja y las cartas 7,7 y 5 es: \\n',blackjacks)\n",
        "print('El numero de cartas promedio para sacar 21 es: \\n',nc.mean())"
      ],
      "execution_count": null,
      "outputs": [
        {
          "output_type": "display_data",
          "data": {
            "image/png": "[encoded data removed]",
            "text/plain": [
              "<Figure size 432x288 with 1 Axes>"
            ]
          },
          "metadata": {
            "tags": [],
            "needs_background": "light"
          }
        },
        {
          "output_type": "stream",
          "text": [
            "La probabilidad de sacar 21 teniendo la mitad de la baraja y las cartas 7,7 y 5 es: \n",
            " 2314802\n",
            "El numero de cartas promedio para sacar 21 es: \n",
            " 4.136601316224887\n"
          ],
          "name": "stdout"
        }
      ]
    },
    {
      "cell_type": "markdown",
      "metadata": {
        "id": "_ggO1dvBiSet",
        "colab_type": "text"
      },
      "source": [
        "####Punto4"
      ]
    },
    {
      "cell_type": "code",
      "metadata": {
        "id": "qMo_N3d8iYtF",
        "colab_type": "code",
        "colab": {}
      },
      "source": [
        "def poker13():\n",
        "  return [1,2,3,4,5,6,7,8,9,10,11,12,13,1,2,3,4,5,6,7,8,9,10,11,12,13,1,2,3,4,5,6,7,8,9,10,11,12,13,1,2,3,4,5,6,7,8,9,10,11,12,13]\n",
        "def spanish():\n",
        "  return [1,2,3,4,5,6,7,8,9,10,11,12,1,2,3,4,5,6,7,8,9,10,11,12,1,2,3,4,5,6,7,8,9,10,11,12,1,2,3,4,5,6,7,8,9,10,11,12]\n",
        "def poker10():\n",
        "  return [1,2,3,4,5,6,7,8,9,10,10,10,10,1,2,3,4,5,6,7,8,9,10,10,10,10,1,2,3,4,5,6,7,8,9,10,10,10,10,1,2,3,4,5,6,7,8,9,10,10,10,10]"
      ],
      "execution_count": null,
      "outputs": []
    },
    {
      "cell_type": "code",
      "metadata": {
        "id": "AXhyHwuBiZ3i",
        "colab_type": "code",
        "colab": {
          "base_uri": "https://localhost:8080/",
          "height": 85
        },
        "outputId": "7ab46f44-0196-4163-a095-b74a322045a0"
      },
      "source": [
        "ensayos = 10000\n",
        "highest_prob = 0\n",
        "hotest_deck = []\n",
        "hotest_distribution = []\n",
        "lowest_prob = 1\n",
        "coldest_deck = []\n",
        "coldest_distribution = []\n",
        "for i in range(ensayos):\n",
        "  deck = poker13()\n",
        "  while len(deck) > 12:\n",
        "    deck.remove(random.choice(deck))\n",
        "  count = 0\n",
        "  n_cards = []\n",
        "  for j in range(10000):\n",
        "    actual_deck = list.copy(deck)\n",
        "    mano = 0\n",
        "    num_cartas = 0\n",
        "    while mano < 21:\n",
        "      carta = random.choice(actual_deck)\n",
        "      mano += carta\n",
        "      num_cartas += 1\n",
        "      actual_deck.remove(carta)\n",
        "    if mano == 21:\n",
        "      count += 1\n",
        "      n_cards.append(num_cartas)\n",
        "  prob = count / 10000\n",
        "  if prob > highest_prob:\n",
        "    highest_prob = prob\n",
        "    hotest_deck = deck\n",
        "    hotest_distribution = n_cards\n",
        "  if prob < lowest_prob:\n",
        "    lowest_prob = prob\n",
        "    coldest_deck = deck\n",
        "    coldest_distribution = n_cards\n",
        "print(\"Hotest Deck: \",hotest_deck)\n",
        "print(\"Hotest Deck probability: \",highest_prob)\n",
        "print(\"Coldest Deck: \",coldest_deck)\n",
        "print(\"Coldest Deck probability: \",lowest_prob)"
      ],
      "execution_count": null,
      "outputs": [
        {
          "output_type": "stream",
          "text": [
            "Hotest Deck:  [6, 9, 12, 3, 6, 9, 12, 3, 4, 6, 9, 12]\n",
            "Hotest Deck probability:  0.3175\n",
            "Coldest Deck:  [11, 4, 7, 9, 11, 13, 2, 4, 7, 9, 11, 13]\n",
            "Coldest Deck probability:  0.0139\n"
          ],
          "name": "stdout"
        }
      ]
    },
    {
      "cell_type": "code",
      "metadata": {
        "id": "cS_P452Ni-Nd",
        "colab_type": "code",
        "colab": {
          "base_uri": "https://localhost:8080/",
          "height": 314
        },
        "outputId": "3f2d50a2-28c0-4911-b1d2-94727c6b91e3"
      },
      "source": [
        "fig, axs = plt.subplots(1, 2, sharey=True, tight_layout=True)\n",
        "axs[0].hist(hotest_distribution)\n",
        "axs[1].hist(coldest_distribution)\n",
        "axs[0].set_title(\"Hotest Deck Distribution\")\n",
        "axs[1].set_title(\"Coldest Deck Distribution\")"
      ],
      "execution_count": null,
      "outputs": [
        {
          "output_type": "execute_result",
          "data": {
            "text/plain": [
              "Text(0.5, 1.0, 'Coldest Deck Distribution')"
            ]
          },
          "metadata": {
            "tags": []
          },
          "execution_count": 25
        },
        {
          "output_type": "display_data",
          "data": {
            "image/png": "[encoded data removed]",
            "text/plain": [
              "<Figure size 432x288 with 2 Axes>"
            ]
          },
          "metadata": {
            "tags": [],
            "needs_background": "light"
          }
        }
      ]
    },
    {
      "cell_type": "markdown",
      "metadata": {
        "id": "gd8yiqzyi_Jj",
        "colab_type": "text"
      },
      "source": [
        "####Punto 4 baraja española"
      ]
    },
    {
      "cell_type": "code",
      "metadata": {
        "id": "SnD7WIvujB17",
        "colab_type": "code",
        "colab": {
          "base_uri": "https://localhost:8080/",
          "height": 85
        },
        "outputId": "3f18568f-ff4c-4388-8184-e94f82552078"
      },
      "source": [
        "ensayos = 10000\n",
        "highest_prob = 0\n",
        "hotest_deck = []\n",
        "hotest_distribution = []\n",
        "lowest_prob = 1\n",
        "coldest_deck = []\n",
        "coldest_distribution = []\n",
        "for i in range(ensayos):\n",
        "  deck = spanish()\n",
        "  while len(deck) > 12:\n",
        "    deck.remove(random.choice(deck))\n",
        "  count = 0\n",
        "  n_cards = []\n",
        "  for j in range(10000):\n",
        "    actual_deck = list.copy(deck)\n",
        "    mano = 0\n",
        "    num_cartas = 0\n",
        "    while mano < 21:\n",
        "      carta = random.choice(actual_deck)\n",
        "      mano += carta\n",
        "      num_cartas += 1\n",
        "      actual_deck.remove(carta)\n",
        "    if mano == 21:\n",
        "      count += 1\n",
        "      n_cards.append(num_cartas)\n",
        "  prob = count / 10000\n",
        "  if prob > highest_prob:\n",
        "    highest_prob = prob\n",
        "    hotest_deck = deck\n",
        "    hotest_distribution = n_cards\n",
        "  if prob < lowest_prob:\n",
        "    lowest_prob = prob\n",
        "    coldest_deck = deck\n",
        "    coldest_distribution = n_cards\n",
        "print(\"Hotest Deck: \",hotest_deck)\n",
        "print(\"Hotest Deck probability: \",highest_prob)\n",
        "print(\"Coldest Deck: \",coldest_deck)\n",
        "print(\"Coldest Deck probability: \",lowest_prob)"
      ],
      "execution_count": null,
      "outputs": [
        {
          "output_type": "stream",
          "text": [
            "Hotest Deck:  [1, 3, 1, 2, 3, 4, 1, 2, 3, 4, 8, 9]\n",
            "Hotest Deck probability:  0.2773\n",
            "Coldest Deck:  [7, 7, 11, 4, 7, 11, 12, 1, 4, 7, 11, 12]\n",
            "Coldest Deck probability:  0.0192\n"
          ],
          "name": "stdout"
        }
      ]
    },
    {
      "cell_type": "code",
      "metadata": {
        "id": "wrb9vv7NjGQE",
        "colab_type": "code",
        "colab": {
          "base_uri": "https://localhost:8080/",
          "height": 314
        },
        "outputId": "016d84e5-0af5-4743-bb05-6078dd640227"
      },
      "source": [
        "fig, axs = plt.subplots(1, 2, sharey=True, tight_layout=True)\n",
        "axs[0].hist(hotest_distribution)\n",
        "axs[1].hist(coldest_distribution)\n",
        "axs[0].set_title(\"Hotest Deck Distribution\")\n",
        "axs[1].set_title(\"Coldest Deck Distribution\")"
      ],
      "execution_count": null,
      "outputs": [
        {
          "output_type": "execute_result",
          "data": {
            "text/plain": [
              "Text(0.5, 1.0, 'Coldest Deck Distribution')"
            ]
          },
          "metadata": {
            "tags": []
          },
          "execution_count": 27
        },
        {
          "output_type": "display_data",
          "data": {
            "image/png": "[encoded data removed]",
            "text/plain": [
              "<Figure size 432x288 with 2 Axes>"
            ]
          },
          "metadata": {
            "tags": [],
            "needs_background": "light"
          }
        }
      ]
    },
    {
      "cell_type": "markdown",
      "metadata": {
        "id": "cgEKFn9vngQy",
        "colab_type": "text"
      },
      "source": [
        "####Punto 5 baraja de Poker"
      ]
    },
    {
      "cell_type": "code",
      "metadata": {
        "id": "wTgfOcaMnfl6",
        "colab_type": "code",
        "colab": {
          "base_uri": "https://localhost:8080/",
          "height": 34
        },
        "outputId": "cc9f5f03-da44-4d08-fff1-4303befbe3b5"
      },
      "source": [
        "numero_de_juegos = 10000000\n",
        "dinero = 0\n",
        "hot_deck = [1, 1, 4, 1, 2, 4, 1, 2, 3, 4, 5, 11]\n",
        "n_cards = []\n",
        "for i in range(numero_de_juegos):\n",
        "  hot = random.randrange(1,10)\n",
        "  apuesta = 1000 if hot == 1 else 10\n",
        "  deck = hot_deck.copy() if hot == 1 else poker13()\n",
        "  mano = 0\n",
        "  num_cartas = 0\n",
        "  while mano < 21:\n",
        "    carta = random.choice(deck)\n",
        "    mano += carta\n",
        "    deck.remove(carta)\n",
        "    num_cartas += 1\n",
        "  if mano == 21:\n",
        "    dinero += apuesta\n",
        "    n_cards.append(num_cartas)\n",
        "  else:\n",
        "    dinero -= apuesta\n",
        "if dinero >= 0:\n",
        "  print(\"Ben wins \",dinero,\"dolars\")\n",
        "else:\n",
        "  print(\"Ben loses \",dinero,\"dolars\")"
      ],
      "execution_count": null,
      "outputs": [
        {
          "output_type": "stream",
          "text": [
            "Ben loses  -550204770 dolars\n"
          ],
          "name": "stdout"
        }
      ]
    },
    {
      "cell_type": "code",
      "metadata": {
        "id": "Ea6oDSUgnkG3",
        "colab_type": "code",
        "colab": {
          "base_uri": "https://localhost:8080/",
          "height": 333
        },
        "outputId": "8adbf5f2-57fb-4bbc-9f20-6a106fe47c3a"
      },
      "source": [
        "plt.hist(n_cards)"
      ],
      "execution_count": null,
      "outputs": [
        {
          "output_type": "execute_result",
          "data": {
            "text/plain": [
              "(array([321550., 523221., 358545.,      0., 176038.,  72757.,      0.,\n",
              "         50572.,  70168.,  25341.]),\n",
              " array([2. , 2.7, 3.4, 4.1, 4.8, 5.5, 6.2, 6.9, 7.6, 8.3, 9. ]),\n",
              " <a list of 10 Patch objects>)"
            ]
          },
          "metadata": {
            "tags": []
          },
          "execution_count": 29
        },
        {
          "output_type": "display_data",
          "data": {
            "image/png": "[encoded data removed]",
            "text/plain": [
              "<Figure size 432x288 with 1 Axes>"
            ]
          },
          "metadata": {
            "tags": [],
            "needs_background": "light"
          }
        }
      ]
    },
    {
      "cell_type": "markdown",
      "metadata": {
        "id": "mzPrlxEmnnjd",
        "colab_type": "text"
      },
      "source": [
        "####Punto 5 baraja española"
      ]
    },
    {
      "cell_type": "code",
      "metadata": {
        "id": "JflNXIoDnqwM",
        "colab_type": "code",
        "colab": {
          "base_uri": "https://localhost:8080/",
          "height": 34
        },
        "outputId": "143e40a6-8cd2-4f1b-f522-8aa0135116cd"
      },
      "source": [
        "numero_de_juegos = 10000000\n",
        "dinero = 0\n",
        "hot_deck = [1, 1, 4, 1, 2, 4, 1, 2, 3, 4, 5, 11]\n",
        "n_cards = []\n",
        "for i in range(numero_de_juegos):\n",
        "  hot = random.randrange(1,10)\n",
        "  apuesta = 1000 if hot == 1 else 10\n",
        "  deck = hot_deck.copy() if hot == 1 else spanish()\n",
        "  mano = 0\n",
        "  num_cartas = 0\n",
        "  while mano < 21:\n",
        "    carta = random.choice(deck)\n",
        "    mano += carta\n",
        "    deck.remove(carta)\n",
        "    num_cartas += 1\n",
        "  if mano == 21:\n",
        "    dinero += apuesta\n",
        "    n_cards.append(num_cartas)\n",
        "  else:\n",
        "    dinero -= apuesta\n",
        "if dinero >= 0:\n",
        "  print(\"Ben wins \",dinero,\"dolars\")\n",
        "else:\n",
        "  print(\"Ben loses \",dinero,\"dolars\")"
      ],
      "execution_count": null,
      "outputs": [
        {
          "output_type": "stream",
          "text": [
            "Ben loses  -548792410 dolars\n"
          ],
          "name": "stdout"
        }
      ]
    },
    {
      "cell_type": "code",
      "metadata": {
        "id": "AenQ7fqjpmXT",
        "colab_type": "code",
        "colab": {
          "base_uri": "https://localhost:8080/",
          "height": 333
        },
        "outputId": "1e3ba6a3-e3a0-4287-d894-2721bf434f67"
      },
      "source": [
        "plt.hist(n_cards)"
      ],
      "execution_count": null,
      "outputs": [
        {
          "output_type": "execute_result",
          "data": {
            "text/plain": [
              "(array([252010., 556547., 443111.,      0., 225067.,  87692.,      0.,\n",
              "         53056.,  70509.,  24972.]),\n",
              " array([2. , 2.7, 3.4, 4.1, 4.8, 5.5, 6.2, 6.9, 7.6, 8.3, 9. ]),\n",
              " <a list of 10 Patch objects>)"
            ]
          },
          "metadata": {
            "tags": []
          },
          "execution_count": 31
        },
        {
          "output_type": "display_data",
          "data": {
            "image/png": "[encoded data removed]",
            "text/plain": [
              "<Figure size 432x288 with 1 Axes>"
            ]
          },
          "metadata": {
            "tags": [],
            "needs_background": "light"
          }
        }
      ]
    },
    {
      "cell_type": "markdown",
      "metadata": {
        "id": "xVmJG8mtfTjS",
        "colab_type": "text"
      },
      "source": [
        "####Puntos 4 y 5 otra forma"
      ]
    },
    {
      "cell_type": "code",
      "metadata": {
        "id": "hBb36BAGfWO8",
        "colab_type": "code",
        "colab": {
          "base_uri": "https://localhost:8080/",
          "height": 1000
        },
        "outputId": "b4d00301-6f04-4816-ccdc-6f55115510c4"
      },
      "source": [
        "n = 100000\n",
        "\n",
        "for g in range(4):\n",
        "\n",
        "    ncards = []\n",
        "    blackjacks = 0\n",
        "    nhcards = np.zeros(6)\n",
        "\n",
        "    poker_0 = games[g].copy()\n",
        "    poker_0.remove(7)\n",
        "    poker_0.remove(7)\n",
        "    poker_0.remove(5)\n",
        "    poker_0 = random.choices(poker_0, k=(len(games[g])//2))\n",
        "\n",
        "    print(poker_0, len(poker_0))\n",
        "\n",
        "    teo_prob = poker_0.count(2)/len(poker_0) + poker_0.count(1)*(poker_0.count(1)-1)/(len(poker_0)*(len(poker_0)-1))\n",
        "\n",
        "    for i in range(n):\n",
        "        poker_i = poker_0.copy()\n",
        "        player = [7,7,5]\n",
        "\n",
        "        while sum(player) < 21:\n",
        "            card = random.choice(poker_i)\n",
        "            player.append(card)\n",
        "            poker_i.remove(card)\n",
        "\n",
        "        if(sum(player)==21):\n",
        "            blackjacks += 1\n",
        "            ncards.append(len(player))\n",
        "            if (len(player) < 8):\n",
        "                nhcards[(len(player)-2)] += 1\n",
        "\n",
        "    nc = np.array(ncards)\n",
        "\n",
        "    print(gamenames[g])\n",
        "\n",
        "    plt.hist(list(map(str,range(2,8))), bins=list(map(str,range(2,9))), align='left', color='lightblue', weights=(nhcards/blackjacks))\n",
        "    plt.xlabel('Número de cartas para obtener Blackjack')\n",
        "    plt.ylabel('Porcentaje')\n",
        "    plt.show();\n",
        "    \n",
        "    print('Probabilidad de lograr Blackjack:\\t', blackjacks/n, '\\nNúmero de cartas promedio:\\t\\t', nc.mean())\n",
        "    print('Probabilidad teórica:\\t\\t\\t',teo_prob,'\\n')"
      ],
      "execution_count": 5,
      "outputs": [
        {
          "output_type": "stream",
          "text": [
            "[1, 2, 5, 8, 4, 9, 8, 5, 10, 4, 10, 12, 2, 3, 1, 8, 8, 8, 10, 4, 6, 8, 8, 2] 24\n",
            "Baraja española\n"
          ],
          "name": "stdout"
        },
        {
          "output_type": "display_data",
          "data": {
            "image/png": "[encoded data removed]",
            "text/plain": [
              "<Figure size 432x288 with 1 Axes>"
            ]
          },
          "metadata": {
            "tags": [],
            "needs_background": "light"
          }
        },
        {
          "output_type": "stream",
          "text": [
            "Probabilidad de lograr Blackjack:\t 0.12888 \n",
            "Número de cartas promedio:\t\t 4.0285536933581625\n",
            "Probabilidad teórica:\t\t\t 0.1286231884057971 \n",
            "\n",
            "[1, 9, 13, 4, 12, 6, 5, 11, 4, 2, 5, 5, 11, 13, 6, 9, 8, 8, 12, 3, 10, 2, 10, 4, 9, 3] 26\n",
            "Poker 13\n"
          ],
          "name": "stdout"
        },
        {
          "output_type": "display_data",
          "data": {
            "image/png": "[encoded data removed]",
            "text/plain": [
              "<Figure size 432x288 with 1 Axes>"
            ]
          },
          "metadata": {
            "tags": [],
            "needs_background": "light"
          }
        },
        {
          "output_type": "stream",
          "text": [
            "Probabilidad de lograr Blackjack:\t 0.07695 \n",
            "Número de cartas promedio:\t\t 4.0\n",
            "Probabilidad teórica:\t\t\t 0.07692307692307693 \n",
            "\n",
            "[3, 4, 8, 9, 6, 10, 10, 5, 1, 4, 10, 10, 10, 10, 1, 10, 6, 10, 1, 5, 3, 6, 8, 4] 24\n",
            "Baraja española 10\n"
          ],
          "name": "stdout"
        },
        {
          "output_type": "display_data",
          "data": {
            "image/png": "[encoded data removed]",
            "text/plain": [
              "<Figure size 432x288 with 1 Axes>"
            ]
          },
          "metadata": {
            "tags": [],
            "needs_background": "light"
          }
        },
        {
          "output_type": "stream",
          "text": [
            "Probabilidad de lograr Blackjack:\t 0.01072 \n",
            "Número de cartas promedio:\t\t 5.0\n",
            "Probabilidad teórica:\t\t\t 0.010869565217391304 \n",
            "\n",
            "[7, 10, 10, 10, 8, 2, 10, 10, 5, 4, 8, 1, 10, 1, 3, 10, 8, 5, 4, 9, 4, 8, 2, 2, 4, 4] 26\n",
            "Poker 10\n"
          ],
          "name": "stdout"
        },
        {
          "output_type": "display_data",
          "data": {
            "image/png": "[encoded data removed]",
            "text/plain": [
              "<Figure size 432x288 with 1 Axes>"
            ]
          },
          "metadata": {
            "tags": [],
            "needs_background": "light"
          }
        },
        {
          "output_type": "stream",
          "text": [
            "Probabilidad de lograr Blackjack:\t 0.11768 \n",
            "Número de cartas promedio:\t\t 4.026852481305235\n",
            "Probabilidad teórica:\t\t\t 0.11846153846153847 \n",
            "\n"
          ],
          "name": "stdout"
        }
      ]
    },
    {
      "cell_type": "code",
      "metadata": {
        "id": "PFzzDbSMfdmq",
        "colab_type": "code",
        "colab": {
          "base_uri": "https://localhost:8080/",
          "height": 1000
        },
        "outputId": "60c81037-d500-41cc-da6f-6f64f01f6c4e"
      },
      "source": [
        "n = 1000000\n",
        "\n",
        "hotest_deck10 =  [1,1,1,1,2,2,2,2,10,10]\n",
        "coldest_deck10 = [10,10,10,10,8,8,9,9,5,6]\n",
        "hotest_deck12 =  [1,1,1,1,2,2,2,2,10,10,5,5]\n",
        "coldest_deck12 = [10,10,10,10,8,8,9,9,5,5,6,6]\n",
        "\n",
        "decks = [hotest_deck10,coldest_deck10,hotest_deck12,coldest_deck12]\n",
        "deck_names = ['Hottest 10 deck', 'Coldest 10 deck', 'Hottest 12 deck', 'Coldest 12 deck']\n",
        "\n",
        "for d in range(4):\n",
        "    teo_prob = decks[d].count(2)/len(decks[d]) + decks[d].count(1)*(decks[d].count(1)-1)/(len(decks[d])*(len(decks[d])-1))\n",
        "\n",
        "    ncards = []\n",
        "    blackjacks = 0\n",
        "    nhcards = np.zeros(6)\n",
        "\n",
        "    for i in range(n):\n",
        "        poker_i = decks[d].copy()\n",
        "        player = [7,7,5]\n",
        "\n",
        "        while sum(player) < 21:\n",
        "            card = random.choice(poker_i)\n",
        "            player.append(card)\n",
        "            poker_i.remove(card)\n",
        "\n",
        "        if(sum(player)==21):\n",
        "            blackjacks += 1\n",
        "            ncards.append(len(player))\n",
        "            if (len(player) < 8):\n",
        "                nhcards[(len(player)-2)] += 1\n",
        "\n",
        "    nc = np.array(ncards)\n",
        "\n",
        "    print(deck_names[d])\n",
        "\n",
        "    plt.hist(list(map(str,range(2,8))), bins=list(map(str,range(2,9))), align='left', color='lightgreen', weights=(nhcards/blackjacks))\n",
        "    plt.xlabel('Número de cartas para obtener Blackjack')\n",
        "    plt.ylabel('Porcentaje')\n",
        "    plt.show();\n",
        "    \n",
        "    print('Probabilidad de lograr Blackjack:\\t', blackjacks/n, '\\nNúmero de cartas promedio:\\t\\t', nc.mean())\n",
        "    print('Probabilidad teórica:\\t\\t\\t',teo_prob,'\\n')"
      ],
      "execution_count": 6,
      "outputs": [
        {
          "output_type": "stream",
          "text": [
            "Hottest 10 deck\n"
          ],
          "name": "stdout"
        },
        {
          "output_type": "display_data",
          "data": {
            "image/png": "[encoded data removed]",
            "text/plain": [
              "<Figure size 432x288 with 1 Axes>"
            ]
          },
          "metadata": {
            "tags": [],
            "needs_background": "light"
          }
        },
        {
          "output_type": "stream",
          "text": [
            "Probabilidad de lograr Blackjack:\t 0.532904 \n",
            "Número de cartas promedio:\t\t 4.250167009442602\n",
            "Probabilidad teórica:\t\t\t 0.5333333333333333 \n",
            "\n",
            "Coldest 10 deck\n"
          ],
          "name": "stdout"
        },
        {
          "output_type": "stream",
          "text": [
            "/usr/local/lib/python3.6/dist-packages/ipykernel_launcher.py:37: RuntimeWarning: invalid value encountered in true_divide\n"
          ],
          "name": "stderr"
        },
        {
          "output_type": "display_data",
          "data": {
            "image/png": "[encoded data removed]",
            "text/plain": [
              "<Figure size 432x288 with 1 Axes>"
            ]
          },
          "metadata": {
            "tags": [],
            "needs_background": "light"
          }
        },
        {
          "output_type": "stream",
          "text": [
            "Probabilidad de lograr Blackjack:\t 0.0 \n",
            "Número de cartas promedio:\t\t nan\n",
            "Probabilidad teórica:\t\t\t 0.0 \n",
            "\n"
          ],
          "name": "stdout"
        },
        {
          "output_type": "stream",
          "text": [
            "/usr/local/lib/python3.6/dist-packages/ipykernel_launcher.py:42: RuntimeWarning: Mean of empty slice.\n",
            "/usr/local/lib/python3.6/dist-packages/numpy/core/_methods.py:161: RuntimeWarning: invalid value encountered in double_scalars\n",
            "  ret = ret.dtype.type(ret / rcount)\n"
          ],
          "name": "stderr"
        },
        {
          "output_type": "stream",
          "text": [
            "Hottest 12 deck\n"
          ],
          "name": "stdout"
        },
        {
          "output_type": "display_data",
          "data": {
            "image/png": "[encoded data removed]",
            "text/plain": [
              "<Figure size 432x288 with 1 Axes>"
            ]
          },
          "metadata": {
            "tags": [],
            "needs_background": "light"
          }
        },
        {
          "output_type": "stream",
          "text": [
            "Probabilidad de lograr Blackjack:\t 0.425074 \n",
            "Número de cartas promedio:\t\t 4.213920399742163\n",
            "Probabilidad teórica:\t\t\t 0.4242424242424242 \n",
            "\n",
            "Coldest 12 deck\n"
          ],
          "name": "stdout"
        },
        {
          "output_type": "display_data",
          "data": {
            "image/png": "[encoded data removed]",
            "text/plain": [
              "<Figure size 432x288 with 1 Axes>"
            ]
          },
          "metadata": {
            "tags": [],
            "needs_background": "light"
          }
        },
        {
          "output_type": "stream",
          "text": [
            "Probabilidad de lograr Blackjack:\t 0.0 \n",
            "Número de cartas promedio:\t\t nan\n",
            "Probabilidad teórica:\t\t\t 0.0 \n",
            "\n"
          ],
          "name": "stdout"
        }
      ]
    },
    {
      "cell_type": "markdown",
      "metadata": {
        "id": "A241FYi_gLJ0",
        "colab_type": "text"
      },
      "source": [
        "####Punto 5"
      ]
    },
    {
      "cell_type": "code",
      "metadata": {
        "id": "4AACKJBxflKd",
        "colab_type": "code",
        "colab": {
          "base_uri": "https://localhost:8080/",
          "height": 1000
        },
        "outputId": "fcd147e9-bd02-400b-d888-d41f512e75c2"
      },
      "source": [
        "n = 100000\n",
        "\n",
        "hotest_deck10 =  [1,1,1,1,2,2,2,2,10,10]\n",
        "hotest_deck12 =  [1,1,1,1,2,2,2,2,10,10,5,5]\n",
        "\n",
        "decks = [hotest_deck10, hotest_deck12]\n",
        "deck_names = ['10 cartas', '12 cartas']\n",
        "\n",
        "for deck_num in range(2):\n",
        "\n",
        "    for d in range(4):\n",
        "        money = 0\n",
        "        \n",
        "        teo_prob = poker_i.count(2)/len(poker_i) + poker_i.count(1)*(poker_i.count(1)-1)/(len(poker_i)*(len(poker_i)-1))\n",
        "\n",
        "        ncards = []\n",
        "        blackjacks = 0\n",
        "        nhcards = np.zeros(6)\n",
        "\n",
        "        for i in range(n):\n",
        "\n",
        "            hot = random.random() < 0.1\n",
        "\n",
        "            player = [7,7,5]\n",
        "\n",
        "            bet = 0\n",
        "            \n",
        "            if (hot):\n",
        "                poker_i = decks[deck_num].copy()\n",
        "                bet = 1000\n",
        "\n",
        "            else:\n",
        "                poker_i = games[d].copy()\n",
        "                poker_i.remove(7)\n",
        "                poker_i.remove(7)\n",
        "                poker_i.remove(5)\n",
        "                bet = 10\n",
        "\n",
        "            while sum(player) < 21:\n",
        "                card = random.choice(poker_i)\n",
        "                player.append(card)\n",
        "                poker_i.remove(card)\n",
        "\n",
        "            if (sum(player)==21):\n",
        "                blackjacks += 1\n",
        "                ncards.append(len(player))\n",
        "                if (len(player) < 8):\n",
        "                    nhcards[(len(player)-2)] += 1\n",
        "                money += bet\n",
        "            else:\n",
        "                money -= bet\n",
        "\n",
        "        nc = np.array(ncards)\n",
        "\n",
        "        print(gamenames[d],'con',deck_names[deck_num])\n",
        "\n",
        "        plt.hist(list(map(str,range(2,8))), bins=list(map(str,range(2,9))), align='left', color='lightgreen', weights=(nhcards/blackjacks))\n",
        "        plt.xlabel('Número de cartas para obtener Blackjack')\n",
        "        plt.ylabel('Porcentaje')\n",
        "        plt.show();\n",
        "        \n",
        "        print('Probabilidad de lograr Blackjack:\\t', blackjacks/n, '\\nNúmero de cartas promedio:\\t\\t', nc.mean())\n",
        "        print('Dinero final neto:\\t\\t\\t',money,'\\nGanancia promedio:\\t\\t\\t',money/n,'\\n')\n",
        "\n"
      ],
      "execution_count": 7,
      "outputs": [
        {
          "output_type": "stream",
          "text": [
            "Baraja española con 10 cartas\n"
          ],
          "name": "stdout"
        },
        {
          "output_type": "display_data",
          "data": {
            "image/png": "[encoded data removed]",
            "text/plain": [
              "<Figure size 432x288 with 1 Axes>"
            ]
          },
          "metadata": {
            "tags": [],
            "needs_background": "light"
          }
        },
        {
          "output_type": "stream",
          "text": [
            "Probabilidad de lograr Blackjack:\t 0.13935 \n",
            "Número de cartas promedio:\t\t 4.133261571582347\n",
            "Dinero final neto:\t\t\t -179770 \n",
            "Ganancia promedio:\t\t\t -1.7977 \n",
            "\n",
            "Poker 13 con 10 cartas\n"
          ],
          "name": "stdout"
        },
        {
          "output_type": "display_data",
          "data": {
            "image/png": "[encoded data removed]",
            "text/plain": [
              "<Figure size 432x288 with 1 Axes>"
            ]
          },
          "metadata": {
            "tags": [],
            "needs_background": "light"
          }
        },
        {
          "output_type": "stream",
          "text": [
            "Probabilidad de lograr Blackjack:\t 0.13145 \n",
            "Número de cartas promedio:\t\t 4.140585774058577\n",
            "Dinero final neto:\t\t\t 95490 \n",
            "Ganancia promedio:\t\t\t 0.9549 \n",
            "\n",
            "Baraja española 10 con 10 cartas\n"
          ],
          "name": "stdout"
        },
        {
          "output_type": "display_data",
          "data": {
            "image/png": "[encoded data removed]",
            "text/plain": [
              "<Figure size 432x288 with 1 Axes>"
            ]
          },
          "metadata": {
            "tags": [],
            "needs_background": "light"
          }
        },
        {
          "output_type": "stream",
          "text": [
            "Probabilidad de lograr Blackjack:\t 0.13769 \n",
            "Número de cartas promedio:\t\t 4.13806376643184\n",
            "Dinero final neto:\t\t\t -117750 \n",
            "Ganancia promedio:\t\t\t -1.1775 \n",
            "\n",
            "Poker 10 con 10 cartas\n"
          ],
          "name": "stdout"
        },
        {
          "output_type": "display_data",
          "data": {
            "image/png": "[encoded data removed]",
            "text/plain": [
              "<Figure size 432x288 with 1 Axes>"
            ]
          },
          "metadata": {
            "tags": [],
            "needs_background": "light"
          }
        },
        {
          "output_type": "stream",
          "text": [
            "Probabilidad de lograr Blackjack:\t 0.13239 \n",
            "Número de cartas promedio:\t\t 4.141249339073948\n",
            "Dinero final neto:\t\t\t -58060 \n",
            "Ganancia promedio:\t\t\t -0.5806 \n",
            "\n",
            "Baraja española con 12 cartas\n"
          ],
          "name": "stdout"
        },
        {
          "output_type": "display_data",
          "data": {
            "image/png": "[encoded data removed]",
            "text/plain": [
              "<Figure size 432x288 with 1 Axes>"
            ]
          },
          "metadata": {
            "tags": [],
            "needs_background": "light"
          }
        },
        {
          "output_type": "stream",
          "text": [
            "Probabilidad de lograr Blackjack:\t 0.12742 \n",
            "Número de cartas promedio:\t\t 4.115444985088683\n",
            "Dinero final neto:\t\t\t -2375690 \n",
            "Ganancia promedio:\t\t\t -23.7569 \n",
            "\n",
            "Poker 13 con 12 cartas\n"
          ],
          "name": "stdout"
        },
        {
          "output_type": "display_data",
          "data": {
            "image/png": "[encoded data removed]",
            "text/plain": [
              "<Figure size 432x288 with 1 Axes>"
            ]
          },
          "metadata": {
            "tags": [],
            "needs_background": "light"
          }
        },
        {
          "output_type": "stream",
          "text": [
            "Probabilidad de lograr Blackjack:\t 0.12076 \n",
            "Número de cartas promedio:\t\t 4.113116926134482\n",
            "Dinero final neto:\t\t\t -2305850 \n",
            "Ganancia promedio:\t\t\t -23.0585 \n",
            "\n",
            "Baraja española 10 con 12 cartas\n"
          ],
          "name": "stdout"
        },
        {
          "output_type": "display_data",
          "data": {
            "image/png": "[encoded data removed]",
            "text/plain": [
              "<Figure size 432x288 with 1 Axes>"
            ]
          },
          "metadata": {
            "tags": [],
            "needs_background": "light"
          }
        },
        {
          "output_type": "stream",
          "text": [
            "Probabilidad de lograr Blackjack:\t 0.1277 \n",
            "Número de cartas promedio:\t\t 4.114956930305404\n",
            "Dinero final neto:\t\t\t -2405820 \n",
            "Ganancia promedio:\t\t\t -24.0582 \n",
            "\n",
            "Poker 10 con 12 cartas\n"
          ],
          "name": "stdout"
        },
        {
          "output_type": "display_data",
          "data": {
            "image/png": "[encoded data removed]",
            "text/plain": [
              "<Figure size 432x288 with 1 Axes>"
            ]
          },
          "metadata": {
            "tags": [],
            "needs_background": "light"
          }
        },
        {
          "output_type": "stream",
          "text": [
            "Probabilidad de lograr Blackjack:\t 0.11942 \n",
            "Número de cartas promedio:\t\t 4.112209010216044\n",
            "Dinero final neto:\t\t\t -2232300 \n",
            "Ganancia promedio:\t\t\t -22.323 \n",
            "\n"
          ],
          "name": "stdout"
        }
      ]
    }
  ]
}